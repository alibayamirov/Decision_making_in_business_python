{
 "cells": [
  {
   "cell_type": "markdown",
   "metadata": {},
   "source": [
    "# Цель проекта: Используя данные интернет-магазина приоритезировать гипотезы, произвести оценку результатов A/B-тестирования различными методами"
   ]
  },
  {
   "cell_type": "markdown",
   "metadata": {},
   "source": [
    "## Часть  . Приоритизация гипотез."
   ]
  },
  {
   "cell_type": "markdown",
   "metadata": {},
   "source": [
    "# Задача 1"
   ]
  },
  {
   "cell_type": "markdown",
   "metadata": {},
   "source": [
    "### Применить фреймворк ICE для приоритизации гипотез. Отсортировать их по убыванию приоритета."
   ]
  },
  {
   "cell_type": "code",
   "execution_count": 2,
   "metadata": {},
   "outputs": [],
   "source": [
    "import pandas as pd\n",
    "import scipy.stats as stats\n",
    "import datetime as dt\n",
    "import numpy as np\n",
    "import matplotlib.pyplot as plt\n",
    "from pandas.plotting import register_matplotlib_converters\n",
    "import warnings"
   ]
  },
  {
   "cell_type": "code",
   "execution_count": 3,
   "metadata": {},
   "outputs": [
    {
     "data": {
      "text/html": [
       "<div>\n",
       "<style scoped>\n",
       "    .dataframe tbody tr th:only-of-type {\n",
       "        vertical-align: middle;\n",
       "    }\n",
       "\n",
       "    .dataframe tbody tr th {\n",
       "        vertical-align: top;\n",
       "    }\n",
       "\n",
       "    .dataframe thead th {\n",
       "        text-align: right;\n",
       "    }\n",
       "</style>\n",
       "<table border=\"1\" class=\"dataframe\">\n",
       "  <thead>\n",
       "    <tr style=\"text-align: right;\">\n",
       "      <th></th>\n",
       "      <th>Hypothesis</th>\n",
       "      <th>Reach</th>\n",
       "      <th>Impact</th>\n",
       "      <th>Confidence</th>\n",
       "      <th>Efforts</th>\n",
       "    </tr>\n",
       "  </thead>\n",
       "  <tbody>\n",
       "    <tr>\n",
       "      <th>0</th>\n",
       "      <td>Добавить два новых канала привлечения трафика, что позволит привлекать на 30% больше пользователей</td>\n",
       "      <td>3</td>\n",
       "      <td>10</td>\n",
       "      <td>8</td>\n",
       "      <td>6</td>\n",
       "    </tr>\n",
       "    <tr>\n",
       "      <th>1</th>\n",
       "      <td>Запустить собственную службу доставки, что сократит срок доставки заказов</td>\n",
       "      <td>2</td>\n",
       "      <td>5</td>\n",
       "      <td>4</td>\n",
       "      <td>10</td>\n",
       "    </tr>\n",
       "    <tr>\n",
       "      <th>2</th>\n",
       "      <td>Добавить блоки рекомендаций товаров на сайт интернет магазина, чтобы повысить конверсию и средний чек заказа</td>\n",
       "      <td>8</td>\n",
       "      <td>3</td>\n",
       "      <td>7</td>\n",
       "      <td>3</td>\n",
       "    </tr>\n",
       "    <tr>\n",
       "      <th>3</th>\n",
       "      <td>Изменить структура категорий, что увеличит конверсию, т.к. пользователи быстрее найдут нужный товар</td>\n",
       "      <td>8</td>\n",
       "      <td>3</td>\n",
       "      <td>3</td>\n",
       "      <td>8</td>\n",
       "    </tr>\n",
       "    <tr>\n",
       "      <th>4</th>\n",
       "      <td>Изменить цвет фона главной страницы, чтобы увеличить вовлеченность пользователей</td>\n",
       "      <td>3</td>\n",
       "      <td>1</td>\n",
       "      <td>1</td>\n",
       "      <td>1</td>\n",
       "    </tr>\n",
       "    <tr>\n",
       "      <th>5</th>\n",
       "      <td>Добавить страницу отзывов клиентов о магазине, что позволит увеличить количество заказов</td>\n",
       "      <td>3</td>\n",
       "      <td>2</td>\n",
       "      <td>2</td>\n",
       "      <td>3</td>\n",
       "    </tr>\n",
       "    <tr>\n",
       "      <th>6</th>\n",
       "      <td>Показать на главной странице баннеры с актуальными акциями и распродажами, чтобы увеличить конверсию</td>\n",
       "      <td>5</td>\n",
       "      <td>3</td>\n",
       "      <td>8</td>\n",
       "      <td>3</td>\n",
       "    </tr>\n",
       "    <tr>\n",
       "      <th>7</th>\n",
       "      <td>Добавить форму подписки на все основные страницы, чтобы собрать базу клиентов для email-рассылок</td>\n",
       "      <td>10</td>\n",
       "      <td>7</td>\n",
       "      <td>8</td>\n",
       "      <td>5</td>\n",
       "    </tr>\n",
       "    <tr>\n",
       "      <th>8</th>\n",
       "      <td>Запустить акцию, дающую скидку на товар в день рождения</td>\n",
       "      <td>1</td>\n",
       "      <td>9</td>\n",
       "      <td>9</td>\n",
       "      <td>5</td>\n",
       "    </tr>\n",
       "  </tbody>\n",
       "</table>\n",
       "</div>"
      ],
      "text/plain": [
       "                                                                                                     Hypothesis  \\\n",
       "0  Добавить два новых канала привлечения трафика, что позволит привлекать на 30% больше пользователей             \n",
       "1  Запустить собственную службу доставки, что сократит срок доставки заказов                                      \n",
       "2  Добавить блоки рекомендаций товаров на сайт интернет магазина, чтобы повысить конверсию и средний чек заказа   \n",
       "3  Изменить структура категорий, что увеличит конверсию, т.к. пользователи быстрее найдут нужный товар            \n",
       "4  Изменить цвет фона главной страницы, чтобы увеличить вовлеченность пользователей                               \n",
       "5  Добавить страницу отзывов клиентов о магазине, что позволит увеличить количество заказов                       \n",
       "6  Показать на главной странице баннеры с актуальными акциями и распродажами, чтобы увеличить конверсию           \n",
       "7  Добавить форму подписки на все основные страницы, чтобы собрать базу клиентов для email-рассылок               \n",
       "8  Запустить акцию, дающую скидку на товар в день рождения                                                        \n",
       "\n",
       "   Reach  Impact  Confidence  Efforts  \n",
       "0  3      10      8           6        \n",
       "1  2      5       4           10       \n",
       "2  8      3       7           3        \n",
       "3  8      3       3           8        \n",
       "4  3      1       1           1        \n",
       "5  3      2       2           3        \n",
       "6  5      3       8           3        \n",
       "7  10     7       8           5        \n",
       "8  1      9       9           5        "
      ]
     },
     "metadata": {},
     "output_type": "display_data"
    }
   ],
   "source": [
    "data = pd.read_csv('/datasets/hypothesis.csv', sep=',')\n",
    "pd.set_option('display.max_colwidth', 0)\n",
    "\n",
    "display(data)"
   ]
  },
  {
   "cell_type": "code",
   "execution_count": 4,
   "metadata": {},
   "outputs": [
    {
     "data": {
      "text/html": [
       "<div>\n",
       "<style scoped>\n",
       "    .dataframe tbody tr th:only-of-type {\n",
       "        vertical-align: middle;\n",
       "    }\n",
       "\n",
       "    .dataframe tbody tr th {\n",
       "        vertical-align: top;\n",
       "    }\n",
       "\n",
       "    .dataframe thead th {\n",
       "        text-align: right;\n",
       "    }\n",
       "</style>\n",
       "<table border=\"1\" class=\"dataframe\">\n",
       "  <thead>\n",
       "    <tr style=\"text-align: right;\">\n",
       "      <th></th>\n",
       "      <th>Hypothesis</th>\n",
       "      <th>ICE</th>\n",
       "    </tr>\n",
       "  </thead>\n",
       "  <tbody>\n",
       "    <tr>\n",
       "      <th>8</th>\n",
       "      <td>Запустить акцию, дающую скидку на товар в день рождения</td>\n",
       "      <td>16.200000</td>\n",
       "    </tr>\n",
       "    <tr>\n",
       "      <th>0</th>\n",
       "      <td>Добавить два новых канала привлечения трафика, что позволит привлекать на 30% больше пользователей</td>\n",
       "      <td>13.333333</td>\n",
       "    </tr>\n",
       "    <tr>\n",
       "      <th>7</th>\n",
       "      <td>Добавить форму подписки на все основные страницы, чтобы собрать базу клиентов для email-рассылок</td>\n",
       "      <td>11.200000</td>\n",
       "    </tr>\n",
       "    <tr>\n",
       "      <th>6</th>\n",
       "      <td>Показать на главной странице баннеры с актуальными акциями и распродажами, чтобы увеличить конверсию</td>\n",
       "      <td>8.000000</td>\n",
       "    </tr>\n",
       "    <tr>\n",
       "      <th>2</th>\n",
       "      <td>Добавить блоки рекомендаций товаров на сайт интернет магазина, чтобы повысить конверсию и средний чек заказа</td>\n",
       "      <td>7.000000</td>\n",
       "    </tr>\n",
       "    <tr>\n",
       "      <th>1</th>\n",
       "      <td>Запустить собственную службу доставки, что сократит срок доставки заказов</td>\n",
       "      <td>2.000000</td>\n",
       "    </tr>\n",
       "    <tr>\n",
       "      <th>5</th>\n",
       "      <td>Добавить страницу отзывов клиентов о магазине, что позволит увеличить количество заказов</td>\n",
       "      <td>1.333333</td>\n",
       "    </tr>\n",
       "    <tr>\n",
       "      <th>3</th>\n",
       "      <td>Изменить структура категорий, что увеличит конверсию, т.к. пользователи быстрее найдут нужный товар</td>\n",
       "      <td>1.125000</td>\n",
       "    </tr>\n",
       "    <tr>\n",
       "      <th>4</th>\n",
       "      <td>Изменить цвет фона главной страницы, чтобы увеличить вовлеченность пользователей</td>\n",
       "      <td>1.000000</td>\n",
       "    </tr>\n",
       "  </tbody>\n",
       "</table>\n",
       "</div>"
      ],
      "text/plain": [
       "                                                                                                     Hypothesis  \\\n",
       "8  Запустить акцию, дающую скидку на товар в день рождения                                                        \n",
       "0  Добавить два новых канала привлечения трафика, что позволит привлекать на 30% больше пользователей             \n",
       "7  Добавить форму подписки на все основные страницы, чтобы собрать базу клиентов для email-рассылок               \n",
       "6  Показать на главной странице баннеры с актуальными акциями и распродажами, чтобы увеличить конверсию           \n",
       "2  Добавить блоки рекомендаций товаров на сайт интернет магазина, чтобы повысить конверсию и средний чек заказа   \n",
       "1  Запустить собственную службу доставки, что сократит срок доставки заказов                                      \n",
       "5  Добавить страницу отзывов клиентов о магазине, что позволит увеличить количество заказов                       \n",
       "3  Изменить структура категорий, что увеличит конверсию, т.к. пользователи быстрее найдут нужный товар            \n",
       "4  Изменить цвет фона главной страницы, чтобы увеличить вовлеченность пользователей                               \n",
       "\n",
       "         ICE  \n",
       "8  16.200000  \n",
       "0  13.333333  \n",
       "7  11.200000  \n",
       "6  8.000000   \n",
       "2  7.000000   \n",
       "1  2.000000   \n",
       "5  1.333333   \n",
       "3  1.125000   \n",
       "4  1.000000   "
      ]
     },
     "metadata": {},
     "output_type": "display_data"
    }
   ],
   "source": [
    "data['ICE'] = (data['Impact'] * data['Confidence'])/data['Efforts']\n",
    "pd.set_option('display.max_colwidth', 0)\n",
    "\n",
    "display(data[['Hypothesis', 'ICE']].sort_values(by='ICE', ascending=False))"
   ]
  },
  {
   "cell_type": "markdown",
   "metadata": {},
   "source": [
    "# Вывод\n",
    "Наиболее перспективные гипотезы по ICE: 8, 0, 7, ,6, 2."
   ]
  },
  {
   "cell_type": "markdown",
   "metadata": {},
   "source": [
    "### Применить фреймворк RICE для приоритизации гипотез. Отсортировать их по убыванию приоритета."
   ]
  },
  {
   "cell_type": "code",
   "execution_count": 5,
   "metadata": {},
   "outputs": [
    {
     "data": {
      "text/html": [
       "<div>\n",
       "<style scoped>\n",
       "    .dataframe tbody tr th:only-of-type {\n",
       "        vertical-align: middle;\n",
       "    }\n",
       "\n",
       "    .dataframe tbody tr th {\n",
       "        vertical-align: top;\n",
       "    }\n",
       "\n",
       "    .dataframe thead th {\n",
       "        text-align: right;\n",
       "    }\n",
       "</style>\n",
       "<table border=\"1\" class=\"dataframe\">\n",
       "  <thead>\n",
       "    <tr style=\"text-align: right;\">\n",
       "      <th></th>\n",
       "      <th>Hypothesis</th>\n",
       "      <th>RICE</th>\n",
       "    </tr>\n",
       "  </thead>\n",
       "  <tbody>\n",
       "    <tr>\n",
       "      <th>7</th>\n",
       "      <td>Добавить форму подписки на все основные страницы, чтобы собрать базу клиентов для email-рассылок</td>\n",
       "      <td>112.0</td>\n",
       "    </tr>\n",
       "    <tr>\n",
       "      <th>2</th>\n",
       "      <td>Добавить блоки рекомендаций товаров на сайт интернет магазина, чтобы повысить конверсию и средний чек заказа</td>\n",
       "      <td>56.0</td>\n",
       "    </tr>\n",
       "    <tr>\n",
       "      <th>0</th>\n",
       "      <td>Добавить два новых канала привлечения трафика, что позволит привлекать на 30% больше пользователей</td>\n",
       "      <td>40.0</td>\n",
       "    </tr>\n",
       "    <tr>\n",
       "      <th>6</th>\n",
       "      <td>Показать на главной странице баннеры с актуальными акциями и распродажами, чтобы увеличить конверсию</td>\n",
       "      <td>40.0</td>\n",
       "    </tr>\n",
       "    <tr>\n",
       "      <th>8</th>\n",
       "      <td>Запустить акцию, дающую скидку на товар в день рождения</td>\n",
       "      <td>16.2</td>\n",
       "    </tr>\n",
       "    <tr>\n",
       "      <th>3</th>\n",
       "      <td>Изменить структура категорий, что увеличит конверсию, т.к. пользователи быстрее найдут нужный товар</td>\n",
       "      <td>9.0</td>\n",
       "    </tr>\n",
       "    <tr>\n",
       "      <th>1</th>\n",
       "      <td>Запустить собственную службу доставки, что сократит срок доставки заказов</td>\n",
       "      <td>4.0</td>\n",
       "    </tr>\n",
       "    <tr>\n",
       "      <th>5</th>\n",
       "      <td>Добавить страницу отзывов клиентов о магазине, что позволит увеличить количество заказов</td>\n",
       "      <td>4.0</td>\n",
       "    </tr>\n",
       "    <tr>\n",
       "      <th>4</th>\n",
       "      <td>Изменить цвет фона главной страницы, чтобы увеличить вовлеченность пользователей</td>\n",
       "      <td>3.0</td>\n",
       "    </tr>\n",
       "  </tbody>\n",
       "</table>\n",
       "</div>"
      ],
      "text/plain": [
       "                                                                                                     Hypothesis  \\\n",
       "7  Добавить форму подписки на все основные страницы, чтобы собрать базу клиентов для email-рассылок               \n",
       "2  Добавить блоки рекомендаций товаров на сайт интернет магазина, чтобы повысить конверсию и средний чек заказа   \n",
       "0  Добавить два новых канала привлечения трафика, что позволит привлекать на 30% больше пользователей             \n",
       "6  Показать на главной странице баннеры с актуальными акциями и распродажами, чтобы увеличить конверсию           \n",
       "8  Запустить акцию, дающую скидку на товар в день рождения                                                        \n",
       "3  Изменить структура категорий, что увеличит конверсию, т.к. пользователи быстрее найдут нужный товар            \n",
       "1  Запустить собственную службу доставки, что сократит срок доставки заказов                                      \n",
       "5  Добавить страницу отзывов клиентов о магазине, что позволит увеличить количество заказов                       \n",
       "4  Изменить цвет фона главной страницы, чтобы увеличить вовлеченность пользователей                               \n",
       "\n",
       "    RICE  \n",
       "7  112.0  \n",
       "2  56.0   \n",
       "0  40.0   \n",
       "6  40.0   \n",
       "8  16.2   \n",
       "3  9.0    \n",
       "1  4.0    \n",
       "5  4.0    \n",
       "4  3.0    "
      ]
     },
     "metadata": {},
     "output_type": "display_data"
    }
   ],
   "source": [
    "data['RICE'] = (data['Reach'] * data['Impact'] * data['Confidence'])/data['Efforts']\n",
    "pd.set_option('display.max_colwidth', 0)\n",
    "\n",
    "display(data[['Hypothesis', 'RICE']].sort_values(by='RICE', ascending=False))"
   ]
  },
  {
   "cell_type": "markdown",
   "metadata": {},
   "source": [
    "# Вывод\n",
    "И снова наиболее перспективные гипотезы: 0, 2, 6, 7, 8."
   ]
  },
  {
   "cell_type": "markdown",
   "metadata": {},
   "source": [
    "### Указать, как изменилась приоритизация гипотез при применении RICE вместо ICE. Объяснить, почему так произошло."
   ]
  },
  {
   "cell_type": "markdown",
   "metadata": {},
   "source": [
    "Наиболее перспективные гипотезы по ICE: 8, 0, 7, ,6, 2. Не столь важно, какой метод применять, главное - точно оценивать его параметры. Точная оценка гипотезы зависит от метода. Потому смотрите на место гипотез среди остальных, а не на абсолютную оценку. \n",
    "И снова наиболее перспективные гипотезы: 0, 2, 6, 7, 8. Однако на первом месте уже гипотеза под номером 7. Так получилось, потому что ее параметр Reach равен 10, в то время как у други: потез он меньше. Кроме силы гипотез, учитывайте и то, как много пользователей она затронет."
   ]
  },
  {
   "cell_type": "markdown",
   "metadata": {},
   "source": [
    "## Часть . Анализ A/B-теста."
   ]
  },
  {
   "cell_type": "markdown",
   "metadata": {},
   "source": [
    "# Задача 2\n",
    "# Проанализировать A/B-тест:"
   ]
  },
  {
   "cell_type": "markdown",
   "metadata": {},
   "source": [
    "### Постройть график кумулятивной выручки по группам. Сделать выводы и предположения."
   ]
  },
  {
   "cell_type": "code",
   "execution_count": 6,
   "metadata": {},
   "outputs": [],
   "source": [
    "import pandas as pd\n",
    "import datetime as dt\n",
    "import numpy as np\n",
    "import matplotlib.pyplot as plt\n",
    "from pandas.plotting import register_matplotlib_converters\n",
    "import warnings"
   ]
  },
  {
   "cell_type": "code",
   "execution_count": 7,
   "metadata": {},
   "outputs": [
    {
     "data": {
      "text/html": [
       "<div>\n",
       "<style scoped>\n",
       "    .dataframe tbody tr th:only-of-type {\n",
       "        vertical-align: middle;\n",
       "    }\n",
       "\n",
       "    .dataframe tbody tr th {\n",
       "        vertical-align: top;\n",
       "    }\n",
       "\n",
       "    .dataframe thead th {\n",
       "        text-align: right;\n",
       "    }\n",
       "</style>\n",
       "<table border=\"1\" class=\"dataframe\">\n",
       "  <thead>\n",
       "    <tr style=\"text-align: right;\">\n",
       "      <th></th>\n",
       "      <th>transactionId</th>\n",
       "      <th>visitorId</th>\n",
       "      <th>date</th>\n",
       "      <th>revenue</th>\n",
       "      <th>group</th>\n",
       "    </tr>\n",
       "  </thead>\n",
       "  <tbody>\n",
       "    <tr>\n",
       "      <th>0</th>\n",
       "      <td>3667963787</td>\n",
       "      <td>3312258926</td>\n",
       "      <td>2019-08-15</td>\n",
       "      <td>1650</td>\n",
       "      <td>B</td>\n",
       "    </tr>\n",
       "    <tr>\n",
       "      <th>1</th>\n",
       "      <td>2804400009</td>\n",
       "      <td>3642806036</td>\n",
       "      <td>2019-08-15</td>\n",
       "      <td>730</td>\n",
       "      <td>B</td>\n",
       "    </tr>\n",
       "    <tr>\n",
       "      <th>2</th>\n",
       "      <td>2961555356</td>\n",
       "      <td>4069496402</td>\n",
       "      <td>2019-08-15</td>\n",
       "      <td>400</td>\n",
       "      <td>A</td>\n",
       "    </tr>\n",
       "    <tr>\n",
       "      <th>3</th>\n",
       "      <td>3797467345</td>\n",
       "      <td>1196621759</td>\n",
       "      <td>2019-08-15</td>\n",
       "      <td>9759</td>\n",
       "      <td>B</td>\n",
       "    </tr>\n",
       "    <tr>\n",
       "      <th>4</th>\n",
       "      <td>2282983706</td>\n",
       "      <td>2322279887</td>\n",
       "      <td>2019-08-15</td>\n",
       "      <td>2308</td>\n",
       "      <td>B</td>\n",
       "    </tr>\n",
       "  </tbody>\n",
       "</table>\n",
       "</div>"
      ],
      "text/plain": [
       "   transactionId   visitorId       date  revenue group\n",
       "0  3667963787     3312258926 2019-08-15  1650     B   \n",
       "1  2804400009     3642806036 2019-08-15  730      B   \n",
       "2  2961555356     4069496402 2019-08-15  400      A   \n",
       "3  3797467345     1196621759 2019-08-15  9759     B   \n",
       "4  2282983706     2322279887 2019-08-15  2308     B   "
      ]
     },
     "metadata": {},
     "output_type": "display_data"
    },
    {
     "data": {
      "text/html": [
       "<div>\n",
       "<style scoped>\n",
       "    .dataframe tbody tr th:only-of-type {\n",
       "        vertical-align: middle;\n",
       "    }\n",
       "\n",
       "    .dataframe tbody tr th {\n",
       "        vertical-align: top;\n",
       "    }\n",
       "\n",
       "    .dataframe thead th {\n",
       "        text-align: right;\n",
       "    }\n",
       "</style>\n",
       "<table border=\"1\" class=\"dataframe\">\n",
       "  <thead>\n",
       "    <tr style=\"text-align: right;\">\n",
       "      <th></th>\n",
       "      <th>date</th>\n",
       "      <th>group</th>\n",
       "      <th>visitors</th>\n",
       "    </tr>\n",
       "  </thead>\n",
       "  <tbody>\n",
       "    <tr>\n",
       "      <th>0</th>\n",
       "      <td>2019-08-01</td>\n",
       "      <td>A</td>\n",
       "      <td>719</td>\n",
       "    </tr>\n",
       "    <tr>\n",
       "      <th>1</th>\n",
       "      <td>2019-08-02</td>\n",
       "      <td>A</td>\n",
       "      <td>619</td>\n",
       "    </tr>\n",
       "    <tr>\n",
       "      <th>2</th>\n",
       "      <td>2019-08-03</td>\n",
       "      <td>A</td>\n",
       "      <td>507</td>\n",
       "    </tr>\n",
       "    <tr>\n",
       "      <th>3</th>\n",
       "      <td>2019-08-04</td>\n",
       "      <td>A</td>\n",
       "      <td>717</td>\n",
       "    </tr>\n",
       "    <tr>\n",
       "      <th>4</th>\n",
       "      <td>2019-08-05</td>\n",
       "      <td>A</td>\n",
       "      <td>756</td>\n",
       "    </tr>\n",
       "  </tbody>\n",
       "</table>\n",
       "</div>"
      ],
      "text/plain": [
       "        date group  visitors\n",
       "0 2019-08-01  A     719     \n",
       "1 2019-08-02  A     619     \n",
       "2 2019-08-03  A     507     \n",
       "3 2019-08-04  A     717     \n",
       "4 2019-08-05  A     756     "
      ]
     },
     "metadata": {},
     "output_type": "display_data"
    }
   ],
   "source": [
    "# конвертеры, которые позволяют использовать типы pandas в matplotlib  \n",
    "register_matplotlib_converters()\n",
    "\n",
    "orders = pd.read_csv('/datasets/orders.csv', sep=',')\n",
    "orders['date'] = orders['date'].map(\n",
    "    lambda x: dt.datetime.strptime(x, '%Y-%m-%d')\n",
    ")\n",
    "\n",
    "visitors = pd.read_csv('/datasets/visitors.csv', sep=',')\n",
    "visitors['date'] = visitors['date'].map(\n",
    "    lambda x: dt.datetime.strptime(x, '%Y-%m-%d')\n",
    ")\n",
    "\n",
    "display(orders.head(5))\n",
    "display(visitors.head(5))"
   ]
  },
  {
   "cell_type": "code",
   "execution_count": 8,
   "metadata": {
    "scrolled": true
   },
   "outputs": [
    {
     "data": {
      "text/plain": [
       "transactionId    0\n",
       "visitorId        0\n",
       "date             0\n",
       "revenue          0\n",
       "group            0\n",
       "dtype: int64"
      ]
     },
     "metadata": {},
     "output_type": "display_data"
    },
    {
     "data": {
      "text/plain": [
       "date        0\n",
       "group       0\n",
       "visitors    0\n",
       "dtype: int64"
      ]
     },
     "metadata": {},
     "output_type": "display_data"
    }
   ],
   "source": [
    "#проверим на наличие пропусков\n",
    "display(orders.isna().sum())\n",
    "display(visitors.isna().sum())"
   ]
  },
  {
   "cell_type": "code",
   "execution_count": 9,
   "metadata": {},
   "outputs": [
    {
     "data": {
      "text/plain": [
       "0"
      ]
     },
     "metadata": {},
     "output_type": "display_data"
    },
    {
     "data": {
      "text/plain": [
       "0"
      ]
     },
     "metadata": {},
     "output_type": "display_data"
    }
   ],
   "source": [
    "#проверим на наличие дубликатов\n",
    "display(orders.duplicated().sum())\n",
    "display(visitors.duplicated().sum())"
   ]
  },
  {
   "cell_type": "markdown",
   "metadata": {},
   "source": [
    "После предобработки можно заключить что наличие дубликатов и пропусков отсутствует."
   ]
  },
  {
   "cell_type": "code",
   "execution_count": 10,
   "metadata": {},
   "outputs": [
    {
     "data": {
      "text/html": [
       "<div>\n",
       "<style scoped>\n",
       "    .dataframe tbody tr th:only-of-type {\n",
       "        vertical-align: middle;\n",
       "    }\n",
       "\n",
       "    .dataframe tbody tr th {\n",
       "        vertical-align: top;\n",
       "    }\n",
       "\n",
       "    .dataframe thead th {\n",
       "        text-align: right;\n",
       "    }\n",
       "</style>\n",
       "<table border=\"1\" class=\"dataframe\">\n",
       "  <thead>\n",
       "    <tr style=\"text-align: right;\">\n",
       "      <th></th>\n",
       "      <th>date</th>\n",
       "      <th>group</th>\n",
       "    </tr>\n",
       "  </thead>\n",
       "  <tbody>\n",
       "    <tr>\n",
       "      <th>0</th>\n",
       "      <td>2019-08-15</td>\n",
       "      <td>B</td>\n",
       "    </tr>\n",
       "    <tr>\n",
       "      <th>2</th>\n",
       "      <td>2019-08-15</td>\n",
       "      <td>A</td>\n",
       "    </tr>\n",
       "    <tr>\n",
       "      <th>45</th>\n",
       "      <td>2019-08-16</td>\n",
       "      <td>A</td>\n",
       "    </tr>\n",
       "    <tr>\n",
       "      <th>47</th>\n",
       "      <td>2019-08-16</td>\n",
       "      <td>B</td>\n",
       "    </tr>\n",
       "    <tr>\n",
       "      <th>55</th>\n",
       "      <td>2019-08-01</td>\n",
       "      <td>A</td>\n",
       "    </tr>\n",
       "    <tr>\n",
       "      <th>...</th>\n",
       "      <td>...</td>\n",
       "      <td>...</td>\n",
       "    </tr>\n",
       "    <tr>\n",
       "      <th>1068</th>\n",
       "      <td>2019-08-12</td>\n",
       "      <td>A</td>\n",
       "    </tr>\n",
       "    <tr>\n",
       "      <th>1114</th>\n",
       "      <td>2019-08-13</td>\n",
       "      <td>B</td>\n",
       "    </tr>\n",
       "    <tr>\n",
       "      <th>1116</th>\n",
       "      <td>2019-08-13</td>\n",
       "      <td>A</td>\n",
       "    </tr>\n",
       "    <tr>\n",
       "      <th>1149</th>\n",
       "      <td>2019-08-14</td>\n",
       "      <td>B</td>\n",
       "    </tr>\n",
       "    <tr>\n",
       "      <th>1150</th>\n",
       "      <td>2019-08-14</td>\n",
       "      <td>A</td>\n",
       "    </tr>\n",
       "  </tbody>\n",
       "</table>\n",
       "<p>62 rows × 2 columns</p>\n",
       "</div>"
      ],
      "text/plain": [
       "           date group\n",
       "0    2019-08-15  B   \n",
       "2    2019-08-15  A   \n",
       "45   2019-08-16  A   \n",
       "47   2019-08-16  B   \n",
       "55   2019-08-01  A   \n",
       "...         ... ..   \n",
       "1068 2019-08-12  A   \n",
       "1114 2019-08-13  B   \n",
       "1116 2019-08-13  A   \n",
       "1149 2019-08-14  B   \n",
       "1150 2019-08-14  A   \n",
       "\n",
       "[62 rows x 2 columns]"
      ]
     },
     "metadata": {},
     "output_type": "display_data"
    }
   ],
   "source": [
    "# создаем массив уникальных пар значений дат и групп теста\n",
    "datesGroups = orders[['date', 'group']].drop_duplicates()\n",
    "display(datesGroups)"
   ]
  },
  {
   "cell_type": "code",
   "execution_count": 11,
   "metadata": {},
   "outputs": [
    {
     "data": {
      "text/html": [
       "<div>\n",
       "<style scoped>\n",
       "    .dataframe tbody tr th:only-of-type {\n",
       "        vertical-align: middle;\n",
       "    }\n",
       "\n",
       "    .dataframe tbody tr th {\n",
       "        vertical-align: top;\n",
       "    }\n",
       "\n",
       "    .dataframe thead th {\n",
       "        text-align: right;\n",
       "    }\n",
       "</style>\n",
       "<table border=\"1\" class=\"dataframe\">\n",
       "  <thead>\n",
       "    <tr style=\"text-align: right;\">\n",
       "      <th></th>\n",
       "      <th>date</th>\n",
       "      <th>group</th>\n",
       "      <th>transactionId</th>\n",
       "      <th>visitorId</th>\n",
       "      <th>revenue</th>\n",
       "    </tr>\n",
       "  </thead>\n",
       "  <tbody>\n",
       "    <tr>\n",
       "      <th>55</th>\n",
       "      <td>2019-08-01</td>\n",
       "      <td>A</td>\n",
       "      <td>24</td>\n",
       "      <td>20</td>\n",
       "      <td>148579</td>\n",
       "    </tr>\n",
       "    <tr>\n",
       "      <th>66</th>\n",
       "      <td>2019-08-01</td>\n",
       "      <td>B</td>\n",
       "      <td>21</td>\n",
       "      <td>20</td>\n",
       "      <td>101217</td>\n",
       "    </tr>\n",
       "    <tr>\n",
       "      <th>175</th>\n",
       "      <td>2019-08-02</td>\n",
       "      <td>A</td>\n",
       "      <td>44</td>\n",
       "      <td>38</td>\n",
       "      <td>242401</td>\n",
       "    </tr>\n",
       "    <tr>\n",
       "      <th>173</th>\n",
       "      <td>2019-08-02</td>\n",
       "      <td>B</td>\n",
       "      <td>45</td>\n",
       "      <td>43</td>\n",
       "      <td>266748</td>\n",
       "    </tr>\n",
       "    <tr>\n",
       "      <th>291</th>\n",
       "      <td>2019-08-03</td>\n",
       "      <td>A</td>\n",
       "      <td>68</td>\n",
       "      <td>62</td>\n",
       "      <td>354874</td>\n",
       "    </tr>\n",
       "  </tbody>\n",
       "</table>\n",
       "</div>"
      ],
      "text/plain": [
       "          date group  transactionId  visitorId  revenue\n",
       "55  2019-08-01  A     24             20         148579 \n",
       "66  2019-08-01  B     21             20         101217 \n",
       "175 2019-08-02  A     44             38         242401 \n",
       "173 2019-08-02  B     45             43         266748 \n",
       "291 2019-08-03  A     68             62         354874 "
      ]
     },
     "metadata": {},
     "output_type": "display_data"
    },
    {
     "data": {
      "text/html": [
       "<div>\n",
       "<style scoped>\n",
       "    .dataframe tbody tr th:only-of-type {\n",
       "        vertical-align: middle;\n",
       "    }\n",
       "\n",
       "    .dataframe tbody tr th {\n",
       "        vertical-align: top;\n",
       "    }\n",
       "\n",
       "    .dataframe thead th {\n",
       "        text-align: right;\n",
       "    }\n",
       "</style>\n",
       "<table border=\"1\" class=\"dataframe\">\n",
       "  <thead>\n",
       "    <tr style=\"text-align: right;\">\n",
       "      <th></th>\n",
       "      <th>date</th>\n",
       "      <th>group</th>\n",
       "      <th>visitors</th>\n",
       "    </tr>\n",
       "  </thead>\n",
       "  <tbody>\n",
       "    <tr>\n",
       "      <th>55</th>\n",
       "      <td>2019-08-01</td>\n",
       "      <td>A</td>\n",
       "      <td>719</td>\n",
       "    </tr>\n",
       "    <tr>\n",
       "      <th>66</th>\n",
       "      <td>2019-08-01</td>\n",
       "      <td>B</td>\n",
       "      <td>713</td>\n",
       "    </tr>\n",
       "    <tr>\n",
       "      <th>175</th>\n",
       "      <td>2019-08-02</td>\n",
       "      <td>A</td>\n",
       "      <td>1338</td>\n",
       "    </tr>\n",
       "    <tr>\n",
       "      <th>173</th>\n",
       "      <td>2019-08-02</td>\n",
       "      <td>B</td>\n",
       "      <td>1294</td>\n",
       "    </tr>\n",
       "    <tr>\n",
       "      <th>291</th>\n",
       "      <td>2019-08-03</td>\n",
       "      <td>A</td>\n",
       "      <td>1845</td>\n",
       "    </tr>\n",
       "  </tbody>\n",
       "</table>\n",
       "</div>"
      ],
      "text/plain": [
       "          date group  visitors\n",
       "55  2019-08-01  A     719     \n",
       "66  2019-08-01  B     713     \n",
       "175 2019-08-02  A     1338    \n",
       "173 2019-08-02  B     1294    \n",
       "291 2019-08-03  A     1845    "
      ]
     },
     "metadata": {},
     "output_type": "display_data"
    }
   ],
   "source": [
    "# Соберём агрегированные кумулятивные по дням данные о заказах:\n",
    "ordersAggregated = datesGroups.apply(\n",
    "    lambda x: orders[\n",
    "        np.logical_and(\n",
    "            orders['date'] <= x['date'], orders['group'] == x['group']\n",
    "        )\n",
    "    ].agg(\n",
    "        {\n",
    "            'date': 'max',\n",
    "            'group': 'max',\n",
    "            'transactionId': 'nunique',\n",
    "            'visitorId': 'nunique',\n",
    "            'revenue': 'sum',\n",
    "        }\n",
    "    ),\n",
    "    axis=1,\n",
    ").sort_values(by=['date', 'group'])\n",
    "\n",
    "# Соберём агрегированные кумулятивные по дням данные о посетителях:\n",
    "\n",
    "visitorsAggregated = datesGroups.apply(\n",
    "    lambda x: visitors[\n",
    "        np.logical_and(\n",
    "            visitors['date'] <= x['date'], visitors['group'] == x['group']\n",
    "        )\n",
    "    ].agg({'date': 'max', 'group': 'max', 'visitors': 'sum'}),\n",
    "    axis=1,\n",
    ").sort_values(by=['date', 'group'])\n",
    "\n",
    "display(ordersAggregated.head(5))\n",
    "display(visitorsAggregated.head(5))"
   ]
  },
  {
   "cell_type": "markdown",
   "metadata": {},
   "source": [
    "# Вывод\n",
    "Код работает так, будто мы ежедневно считали результаты тестирования до выбранного дня включительно и сохраняли их в строках таблицы и аналогично получим агрегированные кумулятивные по дням данные о посетителях"
   ]
  },
  {
   "cell_type": "code",
   "execution_count": 12,
   "metadata": {},
   "outputs": [
    {
     "data": {
      "text/html": [
       "<div>\n",
       "<style scoped>\n",
       "    .dataframe tbody tr th:only-of-type {\n",
       "        vertical-align: middle;\n",
       "    }\n",
       "\n",
       "    .dataframe tbody tr th {\n",
       "        vertical-align: top;\n",
       "    }\n",
       "\n",
       "    .dataframe thead th {\n",
       "        text-align: right;\n",
       "    }\n",
       "</style>\n",
       "<table border=\"1\" class=\"dataframe\">\n",
       "  <thead>\n",
       "    <tr style=\"text-align: right;\">\n",
       "      <th></th>\n",
       "      <th>date</th>\n",
       "      <th>group</th>\n",
       "      <th>orders</th>\n",
       "      <th>buyers</th>\n",
       "      <th>revenue</th>\n",
       "      <th>visitors</th>\n",
       "    </tr>\n",
       "  </thead>\n",
       "  <tbody>\n",
       "    <tr>\n",
       "      <th>0</th>\n",
       "      <td>2019-08-01</td>\n",
       "      <td>A</td>\n",
       "      <td>24</td>\n",
       "      <td>20</td>\n",
       "      <td>148579</td>\n",
       "      <td>719</td>\n",
       "    </tr>\n",
       "    <tr>\n",
       "      <th>1</th>\n",
       "      <td>2019-08-01</td>\n",
       "      <td>B</td>\n",
       "      <td>21</td>\n",
       "      <td>20</td>\n",
       "      <td>101217</td>\n",
       "      <td>713</td>\n",
       "    </tr>\n",
       "    <tr>\n",
       "      <th>2</th>\n",
       "      <td>2019-08-02</td>\n",
       "      <td>A</td>\n",
       "      <td>44</td>\n",
       "      <td>38</td>\n",
       "      <td>242401</td>\n",
       "      <td>1338</td>\n",
       "    </tr>\n",
       "    <tr>\n",
       "      <th>3</th>\n",
       "      <td>2019-08-02</td>\n",
       "      <td>B</td>\n",
       "      <td>45</td>\n",
       "      <td>43</td>\n",
       "      <td>266748</td>\n",
       "      <td>1294</td>\n",
       "    </tr>\n",
       "    <tr>\n",
       "      <th>4</th>\n",
       "      <td>2019-08-03</td>\n",
       "      <td>A</td>\n",
       "      <td>68</td>\n",
       "      <td>62</td>\n",
       "      <td>354874</td>\n",
       "      <td>1845</td>\n",
       "    </tr>\n",
       "  </tbody>\n",
       "</table>\n",
       "</div>"
      ],
      "text/plain": [
       "        date group  orders  buyers  revenue  visitors\n",
       "0 2019-08-01  A     24      20      148579   719     \n",
       "1 2019-08-01  B     21      20      101217   713     \n",
       "2 2019-08-02  A     44      38      242401   1338    \n",
       "3 2019-08-02  B     45      43      266748   1294    \n",
       "4 2019-08-03  A     68      62      354874   1845    "
      ]
     },
     "metadata": {},
     "output_type": "display_data"
    }
   ],
   "source": [
    "# объединяем кумулятивные данные в одной таблице и присваиваем ее столбцам понятные названия\n",
    "cumulativeData = ordersAggregated.merge(\n",
    "    visitorsAggregated, left_on=['date', 'group'], right_on=['date', 'group']\n",
    ")\n",
    "cumulativeData.columns = [\n",
    "    'date',\n",
    "    'group',\n",
    "    'orders',\n",
    "    'buyers',\n",
    "    'revenue',\n",
    "    'visitors',\n",
    "]\n",
    "\n",
    "display(cumulativeData.head(5))"
   ]
  },
  {
   "cell_type": "markdown",
   "metadata": {},
   "source": [
    "# Вывод.\n",
    "Собрали все кумулятивные данные, теперь можно перейти к следующиму этапу."
   ]
  },
  {
   "cell_type": "code",
   "execution_count": 13,
   "metadata": {},
   "outputs": [
    {
     "data": {
      "image/png": "[encoded data removed]",
      "text/plain": [
       "<Figure size 720x504 with 1 Axes>"
      ]
     },
     "metadata": {
      "needs_background": "light"
     },
     "output_type": "display_data"
    }
   ],
   "source": [
    "\n",
    "# датафрейм с кумулятивным количеством заказов и кумулятивной выручкой по дням в группе А\n",
    "cumulativeRevenueA = cumulativeData[cumulativeData['group']=='A'][['date','revenue', 'orders']]\n",
    "\n",
    "# датафрейм с кумулятивным количеством заказов и кумулятивной выручкой по дням в группе B\n",
    "cumulativeRevenueB = cumulativeData[cumulativeData['group']=='B'][['date','revenue', 'orders']]\n",
    "\n",
    "plt.figure(figsize=(10,7))\n",
    "\n",
    "# Строим график выручки группы А\n",
    "plt.plot(cumulativeRevenueA['date'], cumulativeRevenueA['revenue'], label='A')\n",
    "\n",
    "# Строим график выручки группы B\n",
    "plt.plot(cumulativeRevenueB['date'], cumulativeRevenueB['revenue'], label='B')\n",
    "\n",
    "plt.legend()\n",
    "plt.xlabel('Дата', fontsize=16)\n",
    "plt.xticks(rotation=45)\n",
    "plt.ylabel('Выручка', fontsize=16)\n",
    "plt.title('График кумулятивной выручки по группам')\n",
    "plt.show()"
   ]
  },
  {
   "cell_type": "markdown",
   "metadata": {},
   "source": [
    "# Вывод\n",
    "Выручка почти равномерно увеличивается в течение всего теста. Хороший знак.\n",
    "Однако графики выручки обеих групп в нескольких точках резко растут. Особенно резко возрасло в группе В. Это может сигнализировать о всплесках числа заказов, либо о появлении очень дорогих заказов в выборке."
   ]
  },
  {
   "cell_type": "markdown",
   "metadata": {},
   "source": [
    "### Постройть график кумулятивного среднего чека по группам. Сделайть выводы и предположения."
   ]
  },
  {
   "cell_type": "code",
   "execution_count": 14,
   "metadata": {},
   "outputs": [
    {
     "data": {
      "image/png": "[encoded data removed]",
      "text/plain": [
       "<Figure size 720x360 with 1 Axes>"
      ]
     },
     "metadata": {
      "needs_background": "light"
     },
     "output_type": "display_data"
    }
   ],
   "source": [
    "# Построим графики среднего чека по группам — разделим кумулятивную выручку на кумулятивное число заказов\n",
    "plt.figure(figsize=(10,5))\n",
    "\n",
    "plt.plot(cumulativeRevenueA['date'], cumulativeRevenueA['revenue']/cumulativeRevenueA['orders'], label='A', color='orange', linewidth = 2.2)\n",
    "plt.plot(cumulativeRevenueB['date'], cumulativeRevenueB['revenue']/cumulativeRevenueB['orders'], label='B', color='blue', linewidth = 2.2)\n",
    "plt.legend()\n",
    "plt.xlabel('Дата', fontsize=15)\n",
    "plt.xticks(rotation=45)\n",
    "plt.ylabel('Средний чек', fontsize=15)\n",
    "plt.title('График кумулятивного среднего чека по группам')\n",
    "plt.show()"
   ]
  },
  {
   "cell_type": "markdown",
   "metadata": {},
   "source": [
    "# Вывод\n",
    "Средний чек тоже становится равномерным ближе к концу теста: установился для группы A и продолжает падать для группы B. Возможно, в группу B в начале второй половины теста попали крупные заказы (резкий всплеск на графике). Тогда ей нужно больше данных, чтобы прийти к реальному среднему чеку и установиться на его уровне."
   ]
  },
  {
   "cell_type": "markdown",
   "metadata": {},
   "source": [
    "### Постройть график относительного изменения кумулятивного среднего чека группы B к группе A. Сделать выводы и предположения."
   ]
  },
  {
   "cell_type": "code",
   "execution_count": 15,
   "metadata": {},
   "outputs": [
    {
     "name": "stderr",
     "output_type": "stream",
     "text": [
      "No handles with labels found to put in legend.\n"
     ]
    },
    {
     "data": {
      "image/png": "[encoded data removed]",
      "text/plain": [
       "<Figure size 720x360 with 1 Axes>"
      ]
     },
     "metadata": {
      "needs_background": "light"
     },
     "output_type": "display_data"
    }
   ],
   "source": [
    "# собираем данные в одном датафрейме\n",
    "mergedCumulativeRevenue = cumulativeRevenueA.merge(cumulativeRevenueB, left_on='date', right_on='date', how='left', suffixes=['A', 'B'])\n",
    "plt.figure(figsize=(10,5))\n",
    "\n",
    "# cтроим отношение средних чеков\n",
    "plt.plot(mergedCumulativeRevenue['date'], (mergedCumulativeRevenue['revenueB']/mergedCumulativeRevenue['ordersB'])/(mergedCumulativeRevenue['revenueA']/mergedCumulativeRevenue['ordersA'])-1)\n",
    "\n",
    "# добавляем ось X\n",
    "plt.axhline(y=0, color='black', linestyle='--')\n",
    "\n",
    "plt.legend()\n",
    "plt.xlabel('Дата', fontsize=15)\n",
    "plt.xticks(rotation=45)\n",
    "plt.ylabel('Средний чек', fontsize=15)\n",
    "plt.title('График относительного изменения кумулятивного среднего чека группы')\n",
    "plt.show()"
   ]
  },
  {
   "cell_type": "markdown",
   "metadata": {},
   "source": [
    "# Вывод\n",
    "В нескольких точках график различия между сегментами резко «скачет». Вероятно где-то спрятались крупные заказы и выбросы."
   ]
  },
  {
   "cell_type": "markdown",
   "metadata": {},
   "source": [
    "### Постройть график кумулятивного среднего количества заказов на посетителя по группам. Сделать выводы и предположения."
   ]
  },
  {
   "cell_type": "code",
   "execution_count": 16,
   "metadata": {},
   "outputs": [
    {
     "data": {
      "image/png": "[encoded data removed]",
      "text/plain": [
       "<Figure size 720x360 with 1 Axes>"
      ]
     },
     "metadata": {
      "needs_background": "light"
     },
     "output_type": "display_data"
    }
   ],
   "source": [
    "\n",
    "# Строим данные по группе А\n",
    "cumulativeVisitorsA = cumulativeData[cumulativeData['group']=='A'][['date','visitors', 'orders']]\n",
    "\n",
    "# Строим данные по группе B\n",
    "cumulativeVisitorsB = cumulativeData[cumulativeData['group']=='B'][['date','visitors', 'orders']]\n",
    "\n",
    "plt.figure(figsize=(10,5))\n",
    "# сторим графики\n",
    "plt.plot(cumulativeVisitorsA['date'], cumulativeVisitorsA['orders']/cumulativeVisitorsA['visitors'], label='A', color='orange', linewidth = 2.2)\n",
    "\n",
    "plt.plot(cumulativeVisitorsB['date'], cumulativeVisitorsB['orders']/cumulativeVisitorsB['visitors'], label='B', color='blue', linewidth = 2.2)\n",
    "plt.legend()\n",
    "plt.axis([dt.datetime(2019, 8, 1), dt.datetime(2019, 9, 1), 0, 0.05])\n",
    "plt.xlabel('Дата', fontsize=16)\n",
    "plt.xticks(rotation=45)\n",
    "plt.ylabel('Количество заказов на посетителя', fontsize=16)\n",
    "plt.title('График кумулятивного среднего количества заказов на посетителя по группам')\n",
    "plt.show()\n"
   ]
  },
  {
   "cell_type": "markdown",
   "metadata": {},
   "source": [
    "# Вывод\n",
    "Группы точно различаются, в начале оба резко скаканули, сложно назвать график симметричным. Группы очень сильно колебались, при том что группа A просела и не стабильна и скачет непрерывна, как и группа B, но в отличии от А, она вырвалась вперед  и зафиксировалась, но такая же нестабильная."
   ]
  },
  {
   "cell_type": "markdown",
   "metadata": {},
   "source": [
    "### Постройть график относительного изменения кумулятивного среднего количества заказов на посетителя группы B к группе A. Сделать выводы и предположения."
   ]
  },
  {
   "cell_type": "code",
   "execution_count": 17,
   "metadata": {},
   "outputs": [
    {
     "name": "stderr",
     "output_type": "stream",
     "text": [
      "No handles with labels found to put in legend.\n"
     ]
    },
    {
     "data": {
      "image/png": "[encoded data removed]",
      "text/plain": [
       "<Figure size 720x360 with 1 Axes>"
      ]
     },
     "metadata": {
      "needs_background": "light"
     },
     "output_type": "display_data"
    }
   ],
   "source": [
    "# собираем данные в одном датафрейме\n",
    "mergedCumulativeVisitors = cumulativeVisitorsA.merge(cumulativeVisitorsB, left_on='date', right_on='date', how='left', suffixes=['A', 'B'])\n",
    "plt.figure(figsize=(10,5))\n",
    "\n",
    "# cтроим отношение средних чеков\n",
    "plt.plot(mergedCumulativeVisitors['date'], (mergedCumulativeVisitors['ordersB']/mergedCumulativeVisitors['visitorsB'])/(mergedCumulativeVisitors['ordersA']/mergedCumulativeVisitors['visitorsA'])-1)\n",
    "\n",
    "# добавляем ось X\n",
    "plt.axhline(y=0, color='black', linestyle='--')\n",
    "plt.axhline(y=-0.05, color='grey', linestyle='--')\n",
    "\n",
    "plt.legend()\n",
    "plt.xlabel('Дата', fontsize=15)\n",
    "plt.xticks(rotation=45)\n",
    "plt.ylabel('Количество заказов на посетителя', fontsize=15)\n",
    "plt.title('График относительного изменения кумулятивного среднего количества заказов на посетителя')\n",
    "plt.show()"
   ]
  },
  {
   "cell_type": "markdown",
   "metadata": {},
   "source": [
    "# Вывод\n",
    "В начале теста группа B значительно проигрывала группе A, но затем вырвалась вперёд за небольшой период времени и стала ледировать, по среднему количеству заказов на посетителя: становаиться все лучше и лучше, затем зафиксировалось(с небольшими скачками) около прироста относительно группый А"
   ]
  },
  {
   "cell_type": "markdown",
   "metadata": {},
   "source": [
    "### Построить точечный график количества заказов по пользователям. Сделать выводы и предположения."
   ]
  },
  {
   "cell_type": "code",
   "execution_count": 18,
   "metadata": {},
   "outputs": [
    {
     "data": {
      "image/png": "[encoded data removed]",
      "text/plain": [
       "<Figure size 1080x360 with 1 Axes>"
      ]
     },
     "metadata": {
      "needs_background": "light"
     },
     "output_type": "display_data"
    }
   ],
   "source": [
    "ordersByUsers = (\n",
    "    orders.groupby('visitorId', as_index=False)\n",
    "    .agg({'transactionId': 'nunique'})\n",
    ")\n",
    "ordersByUsers.columns = ['user_id', 'orders']\n",
    "ordersByUsers.sort_values(by='orders', ascending=False).head(10)\n",
    "\n",
    "# серия из чисел от 0 до количества наблюдений в ordersByUsers\n",
    "x_values = pd.Series(range(0,len(ordersByUsers)))\n",
    "\n",
    "plt.figure(figsize=(15,5))\n",
    "plt.scatter(x_values, ordersByUsers['orders']) \n",
    "\n",
    "plt.title('Точечная диаграмма числа заказов на одного пользователя')\n",
    "plt.ylabel('Число заказов')\n",
    "plt.grid()\n",
    "plt.show()"
   ]
  },
  {
   "cell_type": "markdown",
   "metadata": {},
   "source": [
    "# Вывод\n",
    "Большинство покупателей заказывали только один раз. Однако доля пользователей с 2-4 заказами тоже значительна. Их точная доля не ясна — пока непонятно, считать их аномалиями или нет. "
   ]
  },
  {
   "cell_type": "markdown",
   "metadata": {},
   "source": [
    "### Посчитать 95-й и 99-й перцентили количества заказов на пользователя. Выберать границу для определения аномальных пользователей."
   ]
  },
  {
   "cell_type": "code",
   "execution_count": 19,
   "metadata": {},
   "outputs": [
    {
     "name": "stdout",
     "output_type": "stream",
     "text": [
      "[2. 4.]\n"
     ]
    }
   ],
   "source": [
    "print(np.percentile(ordersByUsers['orders'], [95, 99])) "
   ]
  },
  {
   "cell_type": "markdown",
   "metadata": {},
   "source": [
    "# Вывод\n",
    " 95-й и 99-й перцентили количества заказов на одного пользователя равны 2 и 4 заказа на пользователя.\n",
    " Разумно выбрать 2 заказов на одного пользователя за верхнюю границу числа заказов, и отсеять аномальных пользователей по ней"
   ]
  },
  {
   "cell_type": "markdown",
   "metadata": {},
   "source": [
    "### Построить точечный график стоимостей заказов. Сделать выводы и предположения."
   ]
  },
  {
   "cell_type": "code",
   "execution_count": 20,
   "metadata": {},
   "outputs": [
    {
     "data": {
      "image/png": "[encoded data removed]",
      "text/plain": [
       "<Figure size 1080x360 with 1 Axes>"
      ]
     },
     "metadata": {
      "needs_background": "light"
     },
     "output_type": "display_data"
    }
   ],
   "source": [
    "x_values = pd.Series(range(0,len(orders)))\n",
    "\n",
    "plt.figure(figsize=(15,5))\n",
    "plt.scatter(x_values, orders['revenue']) \n",
    "\n",
    "plt.title('Точечная диаграмма стоимости заказов')\n",
    "plt.ylabel('Стоимость заказа')\n",
    "plt.grid()\n",
    "plt.show()"
   ]
  },
  {
   "cell_type": "code",
   "execution_count": 21,
   "metadata": {},
   "outputs": [
    {
     "data": {
      "text/plain": [
       "425     1294500\n",
       "1196    202740 \n",
       "858     93940  \n",
       "1136    92550  \n",
       "744     86620  \n",
       "        ...    \n",
       "933     60     \n",
       "459     50     \n",
       "756     50     \n",
       "584     50     \n",
       "1091    50     \n",
       "Name: revenue, Length: 1197, dtype: int64"
      ]
     },
     "execution_count": 21,
     "metadata": {},
     "output_type": "execute_result"
    }
   ],
   "source": [
    "orders['revenue'].sort_values(ascending=False)"
   ]
  },
  {
   "cell_type": "code",
   "execution_count": 22,
   "metadata": {},
   "outputs": [
    {
     "data": {
      "image/png": "[encoded data removed]",
      "text/plain": [
       "<Figure size 1080x360 with 1 Axes>"
      ]
     },
     "metadata": {
      "needs_background": "light"
     },
     "output_type": "display_data"
    }
   ],
   "source": [
    "df_orders = orders[orders['revenue']<200000]\n",
    "x_values = pd.Series(range(0,len(df_orders)))\n",
    "\n",
    "plt.figure(figsize=(15,5))\n",
    "plt.scatter(x_values, df_orders['revenue']) \n",
    "\n",
    "plt.title('Точечная диаграмма стоимости заказов')\n",
    "plt.ylabel('Стоимость заказа')\n",
    "plt.grid()\n",
    "plt.show()"
   ]
  },
  {
   "cell_type": "markdown",
   "metadata": {},
   "source": [
    "# Вывод\n",
    "В данных явно есть заказы дороже 50 000 — например, около 100 000, 150 000 и 200 000 рублей, есть даже 1 300 000. Однако большинство всё-таки имеет меньшую выручку.По графику можно выбрать границу аномальных заказов между 45 000 и 80 000 рублей. Однако принято отсеивать от 1% до 5% наблюдений с крайними значениями. "
   ]
  },
  {
   "cell_type": "markdown",
   "metadata": {},
   "source": [
    "<div class=\"alert alert-success\">\n",
    "    <b>✅ Комментарий ревьюера V2:</b>\n",
    "\n",
    "Супер!\n",
    "</div>"
   ]
  },
  {
   "cell_type": "markdown",
   "metadata": {},
   "source": [
    "### Посчитать 95-й и 99-й перцентили стоимости заказов. Выбрать границу для определения аномальных заказов."
   ]
  },
  {
   "cell_type": "code",
   "execution_count": 23,
   "metadata": {},
   "outputs": [
    {
     "name": "stdout",
     "output_type": "stream",
     "text": [
      "[28000.  58233.2]\n"
     ]
    }
   ],
   "source": [
    "print(np.percentile(orders['revenue'], [95, 99])) "
   ]
  },
  {
   "cell_type": "markdown",
   "metadata": {},
   "source": [
    "# Вывод\n",
    "Не более 5% заказов дороже 28 000 рублей и не более 1% дороже 58 233 рублей. Принято отсеивать от 1% до 5% наблюдений с крайними значениями. Разумно будет выбратьпороговым 58 000 рублей на одного пользователя за верхнюю границу числа заказов, и отсеять аномальных пользователей по ней."
   ]
  },
  {
   "cell_type": "markdown",
   "metadata": {},
   "source": [
    "### Посчитать статистическую значимость различий в среднем количестве заказов на посетителя между группами по «сырым» данным. Сделать выводы и предположения."
   ]
  },
  {
   "cell_type": "code",
   "execution_count": 24,
   "metadata": {},
   "outputs": [
    {
     "data": {
      "text/html": [
       "<div>\n",
       "<style scoped>\n",
       "    .dataframe tbody tr th:only-of-type {\n",
       "        vertical-align: middle;\n",
       "    }\n",
       "\n",
       "    .dataframe tbody tr th {\n",
       "        vertical-align: top;\n",
       "    }\n",
       "\n",
       "    .dataframe thead th {\n",
       "        text-align: right;\n",
       "    }\n",
       "</style>\n",
       "<table border=\"1\" class=\"dataframe\">\n",
       "  <thead>\n",
       "    <tr style=\"text-align: right;\">\n",
       "      <th></th>\n",
       "      <th>date</th>\n",
       "      <th>ordersPerDateA</th>\n",
       "      <th>revenuePerDateA</th>\n",
       "      <th>ordersPerDateB</th>\n",
       "      <th>revenuePerDateB</th>\n",
       "      <th>ordersCummulativeA</th>\n",
       "      <th>revenueCummulativeA</th>\n",
       "      <th>ordersCummulativeB</th>\n",
       "      <th>revenueCummulativeB</th>\n",
       "      <th>visitorsPerDateA</th>\n",
       "      <th>visitorsPerDateB</th>\n",
       "      <th>visitorsCummulativeA</th>\n",
       "      <th>visitorsCummulativeB</th>\n",
       "    </tr>\n",
       "  </thead>\n",
       "  <tbody>\n",
       "    <tr>\n",
       "      <th>0</th>\n",
       "      <td>2019-08-01</td>\n",
       "      <td>24</td>\n",
       "      <td>148579</td>\n",
       "      <td>21</td>\n",
       "      <td>101217</td>\n",
       "      <td>24</td>\n",
       "      <td>148579</td>\n",
       "      <td>21</td>\n",
       "      <td>101217</td>\n",
       "      <td>719</td>\n",
       "      <td>713</td>\n",
       "      <td>719</td>\n",
       "      <td>713</td>\n",
       "    </tr>\n",
       "    <tr>\n",
       "      <th>1</th>\n",
       "      <td>2019-08-02</td>\n",
       "      <td>20</td>\n",
       "      <td>93822</td>\n",
       "      <td>24</td>\n",
       "      <td>165531</td>\n",
       "      <td>44</td>\n",
       "      <td>242401</td>\n",
       "      <td>45</td>\n",
       "      <td>266748</td>\n",
       "      <td>619</td>\n",
       "      <td>581</td>\n",
       "      <td>1338</td>\n",
       "      <td>1294</td>\n",
       "    </tr>\n",
       "    <tr>\n",
       "      <th>2</th>\n",
       "      <td>2019-08-03</td>\n",
       "      <td>24</td>\n",
       "      <td>112473</td>\n",
       "      <td>16</td>\n",
       "      <td>114248</td>\n",
       "      <td>68</td>\n",
       "      <td>354874</td>\n",
       "      <td>61</td>\n",
       "      <td>380996</td>\n",
       "      <td>507</td>\n",
       "      <td>509</td>\n",
       "      <td>1845</td>\n",
       "      <td>1803</td>\n",
       "    </tr>\n",
       "    <tr>\n",
       "      <th>3</th>\n",
       "      <td>2019-08-04</td>\n",
       "      <td>16</td>\n",
       "      <td>70825</td>\n",
       "      <td>17</td>\n",
       "      <td>108571</td>\n",
       "      <td>84</td>\n",
       "      <td>425699</td>\n",
       "      <td>78</td>\n",
       "      <td>489567</td>\n",
       "      <td>717</td>\n",
       "      <td>770</td>\n",
       "      <td>2562</td>\n",
       "      <td>2573</td>\n",
       "    </tr>\n",
       "    <tr>\n",
       "      <th>4</th>\n",
       "      <td>2019-08-05</td>\n",
       "      <td>25</td>\n",
       "      <td>124218</td>\n",
       "      <td>23</td>\n",
       "      <td>92428</td>\n",
       "      <td>109</td>\n",
       "      <td>549917</td>\n",
       "      <td>101</td>\n",
       "      <td>581995</td>\n",
       "      <td>756</td>\n",
       "      <td>707</td>\n",
       "      <td>3318</td>\n",
       "      <td>3280</td>\n",
       "    </tr>\n",
       "  </tbody>\n",
       "</table>\n",
       "</div>"
      ],
      "text/plain": [
       "        date  ordersPerDateA  revenuePerDateA  ordersPerDateB  \\\n",
       "0 2019-08-01  24              148579           21               \n",
       "1 2019-08-02  20              93822            24               \n",
       "2 2019-08-03  24              112473           16               \n",
       "3 2019-08-04  16              70825            17               \n",
       "4 2019-08-05  25              124218           23               \n",
       "\n",
       "   revenuePerDateB  ordersCummulativeA  revenueCummulativeA  \\\n",
       "0  101217           24                  148579                \n",
       "1  165531           44                  242401                \n",
       "2  114248           68                  354874                \n",
       "3  108571           84                  425699                \n",
       "4  92428            109                 549917                \n",
       "\n",
       "   ordersCummulativeB  revenueCummulativeB  visitorsPerDateA  \\\n",
       "0  21                  101217               719                \n",
       "1  45                  266748               619                \n",
       "2  61                  380996               507                \n",
       "3  78                  489567               717                \n",
       "4  101                 581995               756                \n",
       "\n",
       "   visitorsPerDateB  visitorsCummulativeA  visitorsCummulativeB  \n",
       "0  713               719                   713                   \n",
       "1  581               1338                  1294                  \n",
       "2  509               1845                  1803                  \n",
       "3  770               2562                  2573                  \n",
       "4  707               3318                  3280                  "
      ]
     },
     "metadata": {},
     "output_type": "display_data"
    }
   ],
   "source": [
    "visitorsADaily = visitors[visitors['group'] == 'A'][['date', 'visitors']]\n",
    "visitorsADaily.columns = ['date', 'visitorsPerDateA']\n",
    "\n",
    "visitorsACummulative = visitorsADaily.apply(\n",
    "    lambda x: visitorsADaily[visitorsADaily['date'] <= x['date']].agg(\n",
    "        {'date': 'max', 'visitorsPerDateA': 'sum'}\n",
    "    ),\n",
    "    axis=1,\n",
    ")\n",
    "visitorsACummulative.columns = ['date', 'visitorsCummulativeA']\n",
    "\n",
    "visitorsBDaily = visitors[visitors['group'] == 'B'][['date', 'visitors']]\n",
    "visitorsBDaily.columns = ['date', 'visitorsPerDateB']\n",
    "\n",
    "visitorsBCummulative = visitorsBDaily.apply(\n",
    "    lambda x: visitorsBDaily[visitorsBDaily['date'] <= x['date']].agg(\n",
    "        {'date': 'max', 'visitorsPerDateB': 'sum'}\n",
    "    ),\n",
    "    axis=1,\n",
    ")\n",
    "visitorsBCummulative.columns = ['date', 'visitorsCummulativeB']\n",
    "\n",
    "ordersADaily = (\n",
    "    orders[orders['group'] == 'A'][['date', 'transactionId', 'visitorId', 'revenue']]\n",
    "    .groupby('date', as_index=False)\n",
    "    .agg({'transactionId': pd.Series.nunique, 'revenue': 'sum'})\n",
    ")\n",
    "ordersADaily.columns = ['date', 'ordersPerDateA', 'revenuePerDateA']\n",
    "\n",
    "ordersACummulative = ordersADaily.apply(\n",
    "    lambda x: ordersADaily[ordersADaily['date'] <= x['date']].agg(\n",
    "        {'date': 'max', 'ordersPerDateA': 'sum', 'revenuePerDateA': 'sum'}\n",
    "    ),\n",
    "    axis=1,\n",
    ").sort_values(by=['date'])\n",
    "ordersACummulative.columns = [\n",
    "    'date',\n",
    "    'ordersCummulativeA',\n",
    "    'revenueCummulativeA',\n",
    "]\n",
    "\n",
    "ordersBDaily = (\n",
    "    orders[orders['group'] == 'B'][['date', 'transactionId', 'visitorId', 'revenue']]\n",
    "    .groupby('date', as_index=False)\n",
    "    .agg({'transactionId': pd.Series.nunique, 'revenue': 'sum'})\n",
    ")\n",
    "ordersBDaily.columns = ['date', 'ordersPerDateB', 'revenuePerDateB']\n",
    "\n",
    "ordersBCummulative = ordersBDaily.apply(\n",
    "    lambda x: ordersBDaily[ordersBDaily['date'] <= x['date']].agg(\n",
    "        {'date': 'max', 'ordersPerDateB': 'sum', 'revenuePerDateB': 'sum'}\n",
    "    ),\n",
    "    axis=1,\n",
    ").sort_values(by=['date'])\n",
    "ordersBCummulative.columns = [\n",
    "    'date',\n",
    "    'ordersCummulativeB',\n",
    "    'revenueCummulativeB',\n",
    "]\n",
    "\n",
    "data_tbl = (\n",
    "    ordersADaily.merge(\n",
    "        ordersBDaily, left_on='date', right_on='date', how='left'\n",
    "    )\n",
    "    .merge(ordersACummulative, left_on='date', right_on='date', how='left')\n",
    "    .merge(ordersBCummulative, left_on='date', right_on='date', how='left')\n",
    "    .merge(visitorsADaily, left_on='date', right_on='date', how='left')\n",
    "    .merge(visitorsBDaily, left_on='date', right_on='date', how='left')\n",
    "    .merge(visitorsACummulative, left_on='date', right_on='date', how='left')\n",
    "    .merge(visitorsBCummulative, left_on='date', right_on='date', how='left')\n",
    ")\n",
    "\n",
    "display(data_tbl.head(5)) \n",
    "\n",
    "#Названия столбцов данных:\n",
    "\n",
    "# ordersPerDateA — количество заказов в выбранную дату в группе A;\n",
    "# revenuePerDateA — суммарная выручка в выбранную дату в группе A;\n",
    "# ordersPerDateB — количество заказов в выбранную дату в группе B;\n",
    "# revenuePerDateB — суммарная выручка в выбранную дату в группе B;\n",
    "# ordersCummulativeA — суммарное число заказов до выбранной даты включительно в группе A;\n",
    "# revenueCummulativeA — суммарная выручка до выбранной даты включительно в группе A;\n",
    "# ordersCummulativeB — суммарное количество заказов до выбранной даты включительно в группе B;\n",
    "# revenueCummulativeB — суммарная выручка до выбранной даты включительно в группе B;\n",
    "# visitorsPerDateA — количество пользователей в выбранную дату в группе A;\n",
    "# visitorsPerDateB — количество пользователей в выбранную дату в группе B;\n",
    "# visitorsCummulativeA — количество пользователей до выбранной даты включительно в группе A;\n",
    "# visitorsCummulativeB — количество пользователей до выбранной даты включительно в группе B."
   ]
  },
  {
   "cell_type": "markdown",
   "metadata": {},
   "source": [
    "Нулевая гипотеза: различий в среднем количестве заказов между группами нет. Альтернативная гипотеза: различия в среднем между группами есть.\n",
    "Установим уровень alpha = 0.05. Применим статистический критерий Манна-Уитни к полученным выборкам:"
   ]
  },
  {
   "cell_type": "code",
   "execution_count": 25,
   "metadata": {},
   "outputs": [
    {
     "name": "stdout",
     "output_type": "stream",
     "text": [
      "0.01679\n",
      "0.138\n"
     ]
    }
   ],
   "source": [
    "#Посчитаем статистическую значимость различия в среднем количестве заказов между группами.\n",
    "#Создадим переменные ordersByUsersA и ordersByUsersB со столбцами ['visitorId', 'transactionId']. \n",
    "#В них для пользователей, которые заказывали хотя бы 1 раз, укажем число совершённых заказов. \n",
    "ordersByUsersA = (\n",
    "    orders[orders['group'] == 'A']\n",
    "    .groupby('visitorId', as_index=False)\n",
    "    .agg({'transactionId': pd.Series.nunique})\n",
    ")\n",
    "ordersByUsersA.columns = ['userId', 'orders']\n",
    "\n",
    "ordersByUsersB = (\n",
    "    orders[orders['group'] == 'B']\n",
    "    .groupby('visitorId', as_index=False)\n",
    "    .agg({'transactionId': pd.Series.nunique})\n",
    ")\n",
    "ordersByUsersB.columns = ['userId', 'orders'] \n",
    "\n",
    "#Объявите переменные sampleA и sampleB, в которых пользователям с заказами будет соответствовать число заказов пользователя. \n",
    "#А пользователям без заказов — нули. Возьмите код из урока в качестве примера. \n",
    "sampleA = pd.concat(\n",
    "    [\n",
    "        ordersByUsersA['orders'],\n",
    "        pd.Series(\n",
    "            0,\n",
    "            index=np.arange(\n",
    "                data_tbl['visitorsPerDateA'].sum() - len(ordersByUsersA['orders'])\n",
    "            ),\n",
    "            name='orders',\n",
    "        ),\n",
    "    ],\n",
    "    axis=0,\n",
    ")\n",
    "\n",
    "sampleB = pd.concat(\n",
    "    [\n",
    "        ordersByUsersB['orders'],\n",
    "        pd.Series(\n",
    "            0,\n",
    "            index=np.arange(\n",
    "                data_tbl['visitorsPerDateB'].sum() - len(ordersByUsersB['orders'])\n",
    "            ),\n",
    "            name='orders',\n",
    "        ),\n",
    "    ],\n",
    "    axis=0,\n",
    ")\n",
    "\n",
    "print(\"{0:.5f}\".format(stats.mannwhitneyu(sampleA, sampleB)[1]))\n",
    "\n",
    "print(\"{0:.3f}\".format(sampleB.mean() / sampleA.mean() - 1))"
   ]
  },
  {
   "cell_type": "markdown",
   "metadata": {},
   "source": [
    "# Вывод\n",
    "Первое число — p-value = 0.01679 меньше 0.05(5%), это значит что мы можем опровергнуть нулевую гипотезу. Относительный проигрыш группы А равен 13.8%"
   ]
  },
  {
   "cell_type": "markdown",
   "metadata": {},
   "source": [
    "### Посчитать статистическую значимость различий в среднем чеке заказа между группами по «сырым» данным. Сделать выводы и предположения."
   ]
  },
  {
   "cell_type": "markdown",
   "metadata": {},
   "source": [
    "Нулевая гипотеза: состоит в том, что различие в среднем чек между группами есть по сырым данным. Альтернативная гипотеза: различии нет в среднем чек между группами."
   ]
  },
  {
   "cell_type": "code",
   "execution_count": 26,
   "metadata": {},
   "outputs": [
    {
     "name": "stdout",
     "output_type": "stream",
     "text": [
      "0.729\n",
      "0.259\n"
     ]
    }
   ],
   "source": [
    "#Чтобы рассчитать статистическую значимость различий в среднем чеке, передадим критерию mannwhitneyu() данные о выручке с заказов. \n",
    "#А ещё найдём относительные различия в среднем чеке между группами:\n",
    "\n",
    "print('{0:.3f}'.format(stats.mannwhitneyu(orders[orders['group']=='A']['revenue'], orders[orders['group']=='B']['revenue'])[1]))\n",
    "print('{0:.3f}'.format(orders[orders['group']=='B']['revenue'].mean()/orders[orders['group']=='A']['revenue'].mean()-1)) "
   ]
  },
  {
   "cell_type": "markdown",
   "metadata": {},
   "source": [
    "# Вывод\n",
    "P-value - 0.729,это значительно больше 0.05. Значит, причин отвергать нулевую гипотезу и считать, что в среднем чеке есть различия, нет.\n",
    "Впрочем, средний чек группы B значительно выше среднего чека группы A."
   ]
  },
  {
   "cell_type": "markdown",
   "metadata": {},
   "source": [
    "<div class=\"alert alert-success\">\n",
    "    <b>✅ Комментарий ревьюера:</b>\n",
    "\n",
    "Код проверки и вывод приняты. Но нужно сформулировать гипотезы.\n",
    "</div>"
   ]
  },
  {
   "cell_type": "markdown",
   "metadata": {},
   "source": [
    "### Посчитайте статистическую значимость различий в среднем количестве заказов на посетителя между группами по «очищенным» данным. Сделать выводы и предположения."
   ]
  },
  {
   "cell_type": "code",
   "execution_count": 27,
   "metadata": {},
   "outputs": [
    {
     "name": "stdout",
     "output_type": "stream",
     "text": [
      "1099    148427295\n",
      "18      199603092\n",
      "23      237748145\n",
      "37      249864742\n",
      "68      457167155\n",
      "dtype: int64\n",
      "31\n"
     ]
    }
   ],
   "source": [
    "usersWithManyOrders = pd.concat(\n",
    "    [\n",
    "        ordersByUsersA[ordersByUsersA['orders'] > 2]['userId'],\n",
    "        ordersByUsersB[ordersByUsersB['orders'] > 2]['userId'],\n",
    "    ],\n",
    "    axis=0,\n",
    ")\n",
    "usersWithExpensiveOrders = orders[orders['revenue'] > 58000]['visitorId']\n",
    "abnormalUsers = (\n",
    "    pd.concat([usersWithManyOrders, usersWithExpensiveOrders], axis=0)\n",
    "    .drop_duplicates()\n",
    "    .sort_values()\n",
    ")\n",
    "print(abnormalUsers.head(5))\n",
    "print(abnormalUsers.shape[0]) "
   ]
  },
  {
   "cell_type": "markdown",
   "metadata": {},
   "source": [
    "Проеряем нулевую гипотезу о том, что различие в числе заказов между группами нет на отфильтрованных данных. Альтернативная гипотеза, что различие между группами есть на отфильтрованных данных."
   ]
  },
  {
   "cell_type": "code",
   "execution_count": 28,
   "metadata": {},
   "outputs": [
    {
     "name": "stdout",
     "output_type": "stream",
     "text": [
      "0.010\n",
      "0.174\n"
     ]
    }
   ],
   "source": [
    "sampleAFiltered = pd.concat(\n",
    "    [\n",
    "        ordersByUsersA[\n",
    "            np.logical_not(ordersByUsersA['userId'].isin(abnormalUsers))\n",
    "        ]['orders'],\n",
    "        pd.Series(\n",
    "            0,\n",
    "            index=np.arange(\n",
    "                data_tbl['visitorsPerDateA'].sum() - len(ordersByUsersA['orders'])\n",
    "            ),\n",
    "            name='orders',\n",
    "        ),\n",
    "    ],\n",
    "    axis=0,\n",
    ")\n",
    "\n",
    "sampleBFiltered = pd.concat(\n",
    "    [\n",
    "        ordersByUsersB[\n",
    "            np.logical_not(ordersByUsersB['userId'].isin(abnormalUsers))\n",
    "        ]['orders'],\n",
    "        pd.Series(\n",
    "            0,\n",
    "            index=np.arange(\n",
    "                data_tbl['visitorsPerDateB'].sum() - len(ordersByUsersB['orders'])\n",
    "            ),\n",
    "            name='orders',\n",
    "        ),\n",
    "    ],\n",
    "    axis=0,\n",
    ")\n",
    "\n",
    "print('{0:.3f}'.format(stats.mannwhitneyu(sampleAFiltered, sampleBFiltered)[1]))\n",
    "print('{0:.3f}'.format(sampleBFiltered.mean()/sampleAFiltered.mean()-1)) "
   ]
  },
  {
   "cell_type": "markdown",
   "metadata": {},
   "source": [
    "# Вывод\n",
    "По количеству заказов можно видеть, что мы можем отрицать нулевую гипотезу так как P-value ниже 0,05. Разница между сигментами 17.4 между группами в сторону Б, что говорит о значительном улучшении. "
   ]
  },
  {
   "cell_type": "markdown",
   "metadata": {},
   "source": [
    "### Посчитать статистическую значимость различий в среднем чеке заказа между группами по «очищенным» данным. Сделать выводы и предположения."
   ]
  },
  {
   "cell_type": "code",
   "execution_count": 29,
   "metadata": {},
   "outputs": [
    {
     "name": "stdout",
     "output_type": "stream",
     "text": [
      "0.798\n",
      "-0.020\n"
     ]
    }
   ],
   "source": [
    "print(\n",
    "    '{0:.3f}'.format(\n",
    "        stats.mannwhitneyu(\n",
    "            orders[\n",
    "                np.logical_and(\n",
    "                    orders['group'] == 'A',\n",
    "                    np.logical_not(orders['visitorId'].isin(abnormalUsers)),\n",
    "                )\n",
    "            ]['revenue'],\n",
    "            orders[\n",
    "                np.logical_and(\n",
    "                    orders['group'] == 'B',\n",
    "                    np.logical_not(orders['visitorId'].isin(abnormalUsers)),\n",
    "                )\n",
    "            ]['revenue'],\n",
    "        )[1]\n",
    "    )\n",
    ")\n",
    "\n",
    "print(\n",
    "    \"{0:.3f}\".format(\n",
    "        orders[\n",
    "            np.logical_and(\n",
    "                orders['group'] == 'B',\n",
    "                np.logical_not(orders['visitorId'].isin(abnormalUsers)),\n",
    "            )\n",
    "        ]['revenue'].mean()\n",
    "        / orders[\n",
    "            np.logical_and(\n",
    "                orders['group'] == 'A',\n",
    "                np.logical_not(orders['visitorId'].isin(abnormalUsers)),\n",
    "            )\n",
    "        ]['revenue'].mean()\n",
    "        - 1\n",
    "    )\n",
    ") "
   ]
  },
  {
   "cell_type": "markdown",
   "metadata": {},
   "source": [
    "# Вывод\n",
    "Нулевая гипотеза: состоит в том, что различие в среднем чек между группами есть по очищенным данным. Альтернативная гипотеза: различии нет в среднем чек между группами.\n",
    "P-value увеличился, разница между сегментами практически изчезла. Если раньше группа Б была больше на 25%  то на очищенных данных разница составляет 2% в пользу группы А"
   ]
  },
  {
   "cell_type": "markdown",
   "metadata": {},
   "source": [
    "### Принятые решения по результатам теста и описание. Варианты решений:"
   ]
  },
  {
   "cell_type": "markdown",
   "metadata": {},
   "source": [
    "Есть статистически значимое различие по числу заказов между группами как по сырым данным, так и после фильтрации аномалий\n",
    "\n",
    "Нет статистически значимого различия как по срымы данным и так и после удаления аномалий для среднего чека.\n",
    "\n",
    "График различия количества заказов между группами сообщает, что результаты группы B лучше группы A: имеют тенденцию к росту, либо зафиксировались около среднего значения.\n",
    "\n",
    "График различия среднего чека колеблется. Сделать из этого графика определённые выводы нельзя.\n",
    "\n",
    "Исходя из обнаруженных фактов, тест следует остановить, так как у нас достаточно доказательств, что бы зафиксировать победу группы В над А по числу заказов между группами."
   ]
  },
  {
   "cell_type": "code",
   "execution_count": null,
   "metadata": {},
   "outputs": [],
   "source": []
  }
 ],
 "metadata": {
  "ExecuteTimeLog": [
   {
    "duration": 79,
    "start_time": "2023-02-10T12:32:14.592Z"
   },
   {
    "duration": 809,
    "start_time": "2023-02-10T12:38:44.538Z"
   },
   {
    "duration": 55,
    "start_time": "2023-02-10T12:42:03.285Z"
   },
   {
    "duration": 33,
    "start_time": "2023-02-10T12:42:24.770Z"
   },
   {
    "duration": 0,
    "start_time": "2023-02-10T12:44:07.707Z"
   },
   {
    "duration": 1186,
    "start_time": "2023-02-10T12:44:17.641Z"
   },
   {
    "duration": 10,
    "start_time": "2023-02-10T12:44:51.853Z"
   },
   {
    "duration": 2,
    "start_time": "2023-02-10T12:46:34.441Z"
   },
   {
    "duration": 26,
    "start_time": "2023-02-10T12:46:35.302Z"
   },
   {
    "duration": 8,
    "start_time": "2023-02-10T12:46:42.826Z"
   },
   {
    "duration": 1192,
    "start_time": "2023-02-10T12:47:13.548Z"
   },
   {
    "duration": 7,
    "start_time": "2023-02-10T12:47:48.075Z"
   },
   {
    "duration": 366,
    "start_time": "2023-02-10T13:19:50.645Z"
   },
   {
    "duration": 37,
    "start_time": "2023-02-10T13:19:51.786Z"
   },
   {
    "duration": 75,
    "start_time": "2023-02-10T13:19:53.226Z"
   },
   {
    "duration": 7,
    "start_time": "2023-02-10T13:19:56.932Z"
   },
   {
    "duration": 9,
    "start_time": "2023-02-10T13:19:58.126Z"
   },
   {
    "duration": 460,
    "start_time": "2023-02-10T13:28:37.105Z"
   },
   {
    "duration": 47,
    "start_time": "2023-02-10T13:29:19.427Z"
   },
   {
    "duration": 77,
    "start_time": "2023-02-10T13:29:53.494Z"
   },
   {
    "duration": 408,
    "start_time": "2023-02-10T13:30:03.624Z"
   },
   {
    "duration": 1013,
    "start_time": "2023-02-10T13:30:25.327Z"
   },
   {
    "duration": 90,
    "start_time": "2023-02-10T13:30:26.342Z"
   },
   {
    "duration": 9,
    "start_time": "2023-02-10T13:30:26.434Z"
   },
   {
    "duration": 9,
    "start_time": "2023-02-10T13:30:26.445Z"
   },
   {
    "duration": 469,
    "start_time": "2023-02-10T13:30:26.456Z"
   },
   {
    "duration": 2,
    "start_time": "2023-02-10T13:31:27.427Z"
   },
   {
    "duration": 379,
    "start_time": "2023-02-10T13:31:33.445Z"
   },
   {
    "duration": 3,
    "start_time": "2023-02-10T13:31:45.240Z"
   },
   {
    "duration": 27,
    "start_time": "2023-02-10T13:31:46.324Z"
   },
   {
    "duration": 8,
    "start_time": "2023-02-10T13:31:49.449Z"
   },
   {
    "duration": 8,
    "start_time": "2023-02-10T13:31:50.819Z"
   },
   {
    "duration": 344,
    "start_time": "2023-02-10T13:31:53.519Z"
   },
   {
    "duration": 0,
    "start_time": "2023-02-10T13:32:06.845Z"
   },
   {
    "duration": 0,
    "start_time": "2023-02-10T13:32:12.585Z"
   },
   {
    "duration": 403,
    "start_time": "2023-02-10T13:32:13.780Z"
   },
   {
    "duration": 405,
    "start_time": "2023-02-10T13:33:03.849Z"
   },
   {
    "duration": 15,
    "start_time": "2023-02-10T13:33:09.166Z"
   },
   {
    "duration": 365,
    "start_time": "2023-02-10T13:35:20.399Z"
   },
   {
    "duration": 1046,
    "start_time": "2023-02-10T13:35:41.936Z"
   },
   {
    "duration": 92,
    "start_time": "2023-02-10T13:35:42.984Z"
   },
   {
    "duration": 9,
    "start_time": "2023-02-10T13:35:43.077Z"
   },
   {
    "duration": 9,
    "start_time": "2023-02-10T13:35:43.088Z"
   },
   {
    "duration": 436,
    "start_time": "2023-02-10T13:35:54.748Z"
   },
   {
    "duration": 357,
    "start_time": "2023-02-10T13:37:17.657Z"
   },
   {
    "duration": 6,
    "start_time": "2023-02-10T13:39:23.401Z"
   },
   {
    "duration": 46,
    "start_time": "2023-02-10T13:39:26.666Z"
   },
   {
    "duration": 936,
    "start_time": "2023-02-10T13:42:43.394Z"
   },
   {
    "duration": 733,
    "start_time": "2023-02-10T13:44:33.425Z"
   },
   {
    "duration": 668,
    "start_time": "2023-02-10T13:45:10.323Z"
   },
   {
    "duration": 622,
    "start_time": "2023-02-10T13:45:29.371Z"
   },
   {
    "duration": 627,
    "start_time": "2023-02-10T13:47:35.186Z"
   },
   {
    "duration": 162,
    "start_time": "2023-02-10T13:49:27.856Z"
   },
   {
    "duration": 157,
    "start_time": "2023-02-10T13:50:20.964Z"
   },
   {
    "duration": 184,
    "start_time": "2023-02-10T13:50:35.790Z"
   },
   {
    "duration": 169,
    "start_time": "2023-02-10T13:50:44.377Z"
   },
   {
    "duration": 259,
    "start_time": "2023-02-10T13:50:48.781Z"
   },
   {
    "duration": 186,
    "start_time": "2023-02-10T13:52:56.518Z"
   },
   {
    "duration": 193,
    "start_time": "2023-02-10T13:57:08.586Z"
   },
   {
    "duration": 283,
    "start_time": "2023-02-10T13:57:56.675Z"
   },
   {
    "duration": 1273,
    "start_time": "2023-02-10T14:07:20.158Z"
   },
   {
    "duration": 1360,
    "start_time": "2023-02-10T14:07:45.574Z"
   },
   {
    "duration": 184,
    "start_time": "2023-02-10T14:07:58.632Z"
   },
   {
    "duration": 1284,
    "start_time": "2023-02-10T14:37:13.587Z"
   },
   {
    "duration": 21,
    "start_time": "2023-02-10T14:37:39.317Z"
   },
   {
    "duration": 12,
    "start_time": "2023-02-10T14:38:43.463Z"
   },
   {
    "duration": 0,
    "start_time": "2023-02-10T14:39:02.724Z"
   },
   {
    "duration": 1304,
    "start_time": "2023-02-10T14:39:05.539Z"
   },
   {
    "duration": 146,
    "start_time": "2023-02-10T14:43:15.581Z"
   },
   {
    "duration": 0,
    "start_time": "2023-02-10T14:43:18.961Z"
   },
   {
    "duration": 145,
    "start_time": "2023-02-10T14:43:23.164Z"
   },
   {
    "duration": 171,
    "start_time": "2023-02-10T14:47:15.827Z"
   },
   {
    "duration": 68,
    "start_time": "2023-02-10T14:54:13.293Z"
   },
   {
    "duration": 156,
    "start_time": "2023-02-10T14:54:22.093Z"
   },
   {
    "duration": 136,
    "start_time": "2023-02-10T14:55:37.134Z"
   },
   {
    "duration": 139,
    "start_time": "2023-02-10T14:56:03.126Z"
   },
   {
    "duration": 394,
    "start_time": "2023-02-10T15:00:29.476Z"
   },
   {
    "duration": 194,
    "start_time": "2023-02-10T15:01:00.463Z"
   },
   {
    "duration": 234,
    "start_time": "2023-02-10T15:01:51.565Z"
   },
   {
    "duration": 225,
    "start_time": "2023-02-10T15:01:59.528Z"
   },
   {
    "duration": 179,
    "start_time": "2023-02-10T15:02:10.016Z"
   },
   {
    "duration": 647,
    "start_time": "2023-02-10T15:02:20.496Z"
   },
   {
    "duration": 195,
    "start_time": "2023-02-10T15:04:26.769Z"
   },
   {
    "duration": 1230,
    "start_time": "2023-02-10T15:07:42.017Z"
   },
   {
    "duration": 262,
    "start_time": "2023-02-10T15:08:48.293Z"
   },
   {
    "duration": 19,
    "start_time": "2023-02-10T15:15:17.996Z"
   },
   {
    "duration": 112,
    "start_time": "2023-02-10T15:38:51.095Z"
   },
   {
    "duration": 120,
    "start_time": "2023-02-10T15:39:14.791Z"
   },
   {
    "duration": 149,
    "start_time": "2023-02-10T15:39:22.393Z"
   },
   {
    "duration": 142,
    "start_time": "2023-02-10T15:39:27.675Z"
   },
   {
    "duration": 12,
    "start_time": "2023-02-10T15:39:27.820Z"
   },
   {
    "duration": 210,
    "start_time": "2023-02-10T16:00:35.114Z"
   },
   {
    "duration": 137,
    "start_time": "2023-02-10T16:02:45.094Z"
   },
   {
    "duration": 13,
    "start_time": "2023-02-10T16:02:57.418Z"
   },
   {
    "duration": 12,
    "start_time": "2023-02-10T16:03:54.602Z"
   },
   {
    "duration": 16,
    "start_time": "2023-02-10T16:09:41.909Z"
   },
   {
    "duration": 12,
    "start_time": "2023-02-10T16:10:02.479Z"
   },
   {
    "duration": 13,
    "start_time": "2023-02-10T16:10:47.444Z"
   },
   {
    "duration": 12,
    "start_time": "2023-02-10T16:10:48.194Z"
   },
   {
    "duration": 18,
    "start_time": "2023-02-10T16:11:07.384Z"
   },
   {
    "duration": 14,
    "start_time": "2023-02-10T16:11:40.279Z"
   },
   {
    "duration": 12,
    "start_time": "2023-02-10T16:12:51.443Z"
   },
   {
    "duration": 12,
    "start_time": "2023-02-10T16:13:27.021Z"
   },
   {
    "duration": 12,
    "start_time": "2023-02-10T16:15:19.319Z"
   },
   {
    "duration": 359,
    "start_time": "2023-02-10T16:16:53.105Z"
   },
   {
    "duration": 325,
    "start_time": "2023-02-10T16:18:06.874Z"
   },
   {
    "duration": 0,
    "start_time": "2023-02-10T16:19:24.426Z"
   },
   {
    "duration": 16,
    "start_time": "2023-02-10T16:19:27.708Z"
   },
   {
    "duration": 16,
    "start_time": "2023-02-10T16:19:30.336Z"
   },
   {
    "duration": 338,
    "start_time": "2023-02-10T16:19:32.109Z"
   },
   {
    "duration": 13,
    "start_time": "2023-02-10T16:28:53.579Z"
   },
   {
    "duration": 13,
    "start_time": "2023-02-10T16:29:02.062Z"
   },
   {
    "duration": 15,
    "start_time": "2023-02-10T16:30:04.322Z"
   },
   {
    "duration": 48,
    "start_time": "2023-02-10T16:30:27.160Z"
   },
   {
    "duration": 47,
    "start_time": "2023-02-10T16:30:50.126Z"
   },
   {
    "duration": 19,
    "start_time": "2023-02-10T16:30:50.901Z"
   },
   {
    "duration": 48,
    "start_time": "2023-02-10T16:31:01.049Z"
   },
   {
    "duration": 1053,
    "start_time": "2023-02-10T16:35:41.058Z"
   },
   {
    "duration": 84,
    "start_time": "2023-02-10T16:35:42.113Z"
   },
   {
    "duration": 9,
    "start_time": "2023-02-10T16:35:42.198Z"
   },
   {
    "duration": 9,
    "start_time": "2023-02-10T16:35:42.208Z"
   },
   {
    "duration": 711,
    "start_time": "2023-02-10T16:35:42.219Z"
   },
   {
    "duration": 203,
    "start_time": "2023-02-10T16:35:42.932Z"
   },
   {
    "duration": 246,
    "start_time": "2023-02-10T16:35:43.136Z"
   },
   {
    "duration": 223,
    "start_time": "2023-02-10T16:35:43.393Z"
   },
   {
    "duration": 238,
    "start_time": "2023-02-10T16:35:43.618Z"
   },
   {
    "duration": 116,
    "start_time": "2023-02-10T16:35:43.859Z"
   },
   {
    "duration": 0,
    "start_time": "2023-02-10T16:35:43.978Z"
   },
   {
    "duration": 14,
    "start_time": "2023-02-10T16:36:37.392Z"
   },
   {
    "duration": 348,
    "start_time": "2023-02-10T16:37:50.655Z"
   },
   {
    "duration": 187,
    "start_time": "2023-02-10T16:38:03.060Z"
   },
   {
    "duration": 291,
    "start_time": "2023-02-10T16:38:06.271Z"
   },
   {
    "duration": 197,
    "start_time": "2023-02-10T16:38:08.621Z"
   },
   {
    "duration": 348,
    "start_time": "2023-02-10T16:38:13.136Z"
   },
   {
    "duration": 12,
    "start_time": "2023-02-10T16:38:17.217Z"
   },
   {
    "duration": 428,
    "start_time": "2023-02-10T17:21:21.156Z"
   },
   {
    "duration": 333,
    "start_time": "2023-02-10T17:21:29.184Z"
   },
   {
    "duration": 0,
    "start_time": "2023-02-10T17:21:37.884Z"
   },
   {
    "duration": 0,
    "start_time": "2023-02-10T17:21:37.885Z"
   },
   {
    "duration": 0,
    "start_time": "2023-02-10T17:21:37.886Z"
   },
   {
    "duration": 0,
    "start_time": "2023-02-10T17:21:37.886Z"
   },
   {
    "duration": 0,
    "start_time": "2023-02-10T17:21:37.887Z"
   },
   {
    "duration": 0,
    "start_time": "2023-02-10T17:21:37.889Z"
   },
   {
    "duration": 0,
    "start_time": "2023-02-10T17:21:37.890Z"
   },
   {
    "duration": 0,
    "start_time": "2023-02-10T17:21:37.891Z"
   },
   {
    "duration": 0,
    "start_time": "2023-02-10T17:21:37.891Z"
   },
   {
    "duration": 0,
    "start_time": "2023-02-10T17:21:37.892Z"
   },
   {
    "duration": 3,
    "start_time": "2023-02-10T17:21:49.537Z"
   },
   {
    "duration": 26,
    "start_time": "2023-02-10T17:21:50.858Z"
   },
   {
    "duration": 8,
    "start_time": "2023-02-10T17:21:52.418Z"
   },
   {
    "duration": 10,
    "start_time": "2023-02-10T17:21:53.806Z"
   },
   {
    "duration": 378,
    "start_time": "2023-02-10T17:21:58.969Z"
   },
   {
    "duration": 14,
    "start_time": "2023-02-10T17:25:29.556Z"
   },
   {
    "duration": 11,
    "start_time": "2023-02-10T17:25:48.740Z"
   },
   {
    "duration": 26,
    "start_time": "2023-02-10T17:26:03.447Z"
   },
   {
    "duration": 402,
    "start_time": "2023-02-10T17:26:09.060Z"
   },
   {
    "duration": 10,
    "start_time": "2023-02-10T17:26:57.538Z"
   },
   {
    "duration": 25,
    "start_time": "2023-02-10T17:27:24.113Z"
   },
   {
    "duration": 11,
    "start_time": "2023-02-10T17:27:43.890Z"
   },
   {
    "duration": 1034,
    "start_time": "2023-02-10T17:28:41.096Z"
   },
   {
    "duration": 87,
    "start_time": "2023-02-10T17:28:42.132Z"
   },
   {
    "duration": 8,
    "start_time": "2023-02-10T17:28:42.220Z"
   },
   {
    "duration": 8,
    "start_time": "2023-02-10T17:28:42.230Z"
   },
   {
    "duration": 433,
    "start_time": "2023-02-10T17:28:42.239Z"
   },
   {
    "duration": 0,
    "start_time": "2023-02-10T17:28:42.673Z"
   },
   {
    "duration": 0,
    "start_time": "2023-02-10T17:28:42.674Z"
   },
   {
    "duration": 0,
    "start_time": "2023-02-10T17:28:42.676Z"
   },
   {
    "duration": 0,
    "start_time": "2023-02-10T17:28:42.677Z"
   },
   {
    "duration": 0,
    "start_time": "2023-02-10T17:28:42.678Z"
   },
   {
    "duration": 356,
    "start_time": "2023-02-10T17:29:33.229Z"
   },
   {
    "duration": 339,
    "start_time": "2023-02-10T17:34:50.776Z"
   },
   {
    "duration": 56,
    "start_time": "2023-02-10T17:35:34.958Z"
   },
   {
    "duration": 69,
    "start_time": "2023-02-10T17:39:11.743Z"
   },
   {
    "duration": 107,
    "start_time": "2023-02-10T17:41:45.866Z"
   },
   {
    "duration": 635,
    "start_time": "2023-02-10T17:43:53.981Z"
   },
   {
    "duration": 206,
    "start_time": "2023-02-10T17:44:13.053Z"
   },
   {
    "duration": 536,
    "start_time": "2023-02-10T17:45:01.938Z"
   },
   {
    "duration": 533,
    "start_time": "2023-02-10T17:45:39.525Z"
   },
   {
    "duration": 562,
    "start_time": "2023-02-10T17:46:04.839Z"
   },
   {
    "duration": 217,
    "start_time": "2023-02-10T17:46:18.354Z"
   },
   {
    "duration": 298,
    "start_time": "2023-02-10T17:46:22.901Z"
   },
   {
    "duration": 323,
    "start_time": "2023-02-10T17:46:58.673Z"
   },
   {
    "duration": 290,
    "start_time": "2023-02-10T17:49:13.620Z"
   },
   {
    "duration": 292,
    "start_time": "2023-02-10T17:49:36.761Z"
   },
   {
    "duration": 204,
    "start_time": "2023-02-10T17:49:45.141Z"
   },
   {
    "duration": 313,
    "start_time": "2023-02-10T17:49:49.072Z"
   },
   {
    "duration": 283,
    "start_time": "2023-02-10T17:50:23.248Z"
   },
   {
    "duration": 324,
    "start_time": "2023-02-10T17:50:49.278Z"
   },
   {
    "duration": 310,
    "start_time": "2023-02-10T17:51:05.765Z"
   },
   {
    "duration": 14,
    "start_time": "2023-02-10T17:51:10.838Z"
   },
   {
    "duration": 12,
    "start_time": "2023-02-10T17:51:56.590Z"
   },
   {
    "duration": 13,
    "start_time": "2023-02-10T17:52:23.652Z"
   },
   {
    "duration": 143,
    "start_time": "2023-02-10T17:52:55.345Z"
   },
   {
    "duration": 4,
    "start_time": "2023-02-10T17:56:18.333Z"
   },
   {
    "duration": 12,
    "start_time": "2023-02-10T17:58:12.950Z"
   },
   {
    "duration": 12,
    "start_time": "2023-02-10T17:58:39.002Z"
   },
   {
    "duration": 10,
    "start_time": "2023-02-10T17:58:53.628Z"
   },
   {
    "duration": 18,
    "start_time": "2023-02-10T18:01:56.031Z"
   },
   {
    "duration": 142,
    "start_time": "2023-02-10T18:02:02.363Z"
   },
   {
    "duration": 148,
    "start_time": "2023-02-10T18:02:40.194Z"
   },
   {
    "duration": 1128,
    "start_time": "2023-02-10T18:05:10.978Z"
   },
   {
    "duration": 135,
    "start_time": "2023-02-10T18:06:20.410Z"
   },
   {
    "duration": 137,
    "start_time": "2023-02-10T18:08:07.252Z"
   },
   {
    "duration": 228,
    "start_time": "2023-02-10T18:08:16.456Z"
   },
   {
    "duration": 10,
    "start_time": "2023-02-10T18:09:39.561Z"
   },
   {
    "duration": 106,
    "start_time": "2023-02-10T18:16:43.013Z"
   },
   {
    "duration": 190,
    "start_time": "2023-02-10T18:19:34.492Z"
   },
   {
    "duration": 207,
    "start_time": "2023-02-10T18:20:30.803Z"
   },
   {
    "duration": 207,
    "start_time": "2023-02-10T18:21:36.373Z"
   },
   {
    "duration": 129,
    "start_time": "2023-02-10T18:37:12.771Z"
   },
   {
    "duration": 1270,
    "start_time": "2023-02-10T18:40:28.728Z"
   },
   {
    "duration": 210,
    "start_time": "2023-02-10T18:41:07.643Z"
   },
   {
    "duration": 1276,
    "start_time": "2023-02-10T18:41:10.916Z"
   },
   {
    "duration": 1477,
    "start_time": "2023-02-10T18:42:10.145Z"
   },
   {
    "duration": 220,
    "start_time": "2023-02-10T18:42:21.918Z"
   },
   {
    "duration": 147,
    "start_time": "2023-02-10T18:45:35.724Z"
   },
   {
    "duration": 144,
    "start_time": "2023-02-10T18:45:49.666Z"
   },
   {
    "duration": 172,
    "start_time": "2023-02-10T18:46:04.215Z"
   },
   {
    "duration": 55,
    "start_time": "2023-02-11T12:18:21.747Z"
   },
   {
    "duration": 14,
    "start_time": "2023-02-11T12:18:32.398Z"
   },
   {
    "duration": 14,
    "start_time": "2023-02-11T12:18:33.308Z"
   },
   {
    "duration": 14,
    "start_time": "2023-02-11T12:18:46.292Z"
   },
   {
    "duration": 13,
    "start_time": "2023-02-11T12:19:18.346Z"
   },
   {
    "duration": 3,
    "start_time": "2023-02-11T12:19:49.707Z"
   },
   {
    "duration": 39,
    "start_time": "2023-02-11T12:19:49.721Z"
   },
   {
    "duration": 8,
    "start_time": "2023-02-11T12:19:49.762Z"
   },
   {
    "duration": 13,
    "start_time": "2023-02-11T12:19:49.771Z"
   },
   {
    "duration": 532,
    "start_time": "2023-02-11T12:19:49.786Z"
   },
   {
    "duration": 263,
    "start_time": "2023-02-11T12:19:50.321Z"
   },
   {
    "duration": 348,
    "start_time": "2023-02-11T12:19:50.585Z"
   },
   {
    "duration": 231,
    "start_time": "2023-02-11T12:19:50.935Z"
   },
   {
    "duration": 298,
    "start_time": "2023-02-11T12:19:51.167Z"
   },
   {
    "duration": 146,
    "start_time": "2023-02-11T12:19:51.467Z"
   },
   {
    "duration": 11,
    "start_time": "2023-02-11T12:19:51.615Z"
   },
   {
    "duration": 151,
    "start_time": "2023-02-11T12:19:51.628Z"
   },
   {
    "duration": 10,
    "start_time": "2023-02-11T12:19:51.782Z"
   },
   {
    "duration": 219,
    "start_time": "2023-02-11T12:19:51.794Z"
   },
   {
    "duration": 169,
    "start_time": "2023-02-11T12:19:52.015Z"
   },
   {
    "duration": 10,
    "start_time": "2023-02-11T12:28:14.444Z"
   },
   {
    "duration": 12,
    "start_time": "2023-02-11T12:32:04.312Z"
   },
   {
    "duration": 97,
    "start_time": "2023-02-11T12:45:32.893Z"
   },
   {
    "duration": 6,
    "start_time": "2023-02-11T12:45:37.804Z"
   },
   {
    "duration": 154,
    "start_time": "2023-02-11T12:46:13.607Z"
   },
   {
    "duration": 170,
    "start_time": "2023-02-11T12:46:42.590Z"
   },
   {
    "duration": 195,
    "start_time": "2023-02-11T12:47:08.136Z"
   },
   {
    "duration": 165,
    "start_time": "2023-02-11T12:47:25.304Z"
   },
   {
    "duration": 169,
    "start_time": "2023-02-11T12:47:41.337Z"
   },
   {
    "duration": 220,
    "start_time": "2023-02-11T12:49:51.438Z"
   },
   {
    "duration": 210,
    "start_time": "2023-02-11T12:50:42.127Z"
   },
   {
    "duration": 795,
    "start_time": "2023-02-11T12:51:32.654Z"
   },
   {
    "duration": 4,
    "start_time": "2023-02-11T12:51:49.684Z"
   },
   {
    "duration": 867,
    "start_time": "2023-02-11T12:53:09.533Z"
   },
   {
    "duration": 11,
    "start_time": "2023-02-11T12:53:43.170Z"
   },
   {
    "duration": 3,
    "start_time": "2023-02-11T13:20:51.063Z"
   },
   {
    "duration": 802,
    "start_time": "2023-02-11T13:21:30.496Z"
   },
   {
    "duration": 753,
    "start_time": "2023-02-11T13:21:39.021Z"
   },
   {
    "duration": 4,
    "start_time": "2023-02-11T13:22:01.568Z"
   },
   {
    "duration": 4,
    "start_time": "2023-02-11T13:22:09.401Z"
   },
   {
    "duration": 4,
    "start_time": "2023-02-11T13:22:16.674Z"
   },
   {
    "duration": 2,
    "start_time": "2023-02-11T13:22:41.312Z"
   },
   {
    "duration": 4,
    "start_time": "2023-02-11T13:29:48.839Z"
   },
   {
    "duration": 4,
    "start_time": "2023-02-11T13:31:58.080Z"
   },
   {
    "duration": 5,
    "start_time": "2023-02-11T13:34:33.615Z"
   },
   {
    "duration": 5,
    "start_time": "2023-02-11T13:35:26.993Z"
   },
   {
    "duration": 727,
    "start_time": "2023-02-11T13:35:56.992Z"
   },
   {
    "duration": 9,
    "start_time": "2023-02-11T13:37:24.942Z"
   },
   {
    "duration": 5,
    "start_time": "2023-02-11T13:39:39.988Z"
   },
   {
    "duration": 776,
    "start_time": "2023-02-11T13:41:17.992Z"
   },
   {
    "duration": 698,
    "start_time": "2023-02-11T13:41:40.823Z"
   },
   {
    "duration": 709,
    "start_time": "2023-02-11T13:42:31.858Z"
   },
   {
    "duration": 150,
    "start_time": "2023-02-11T13:42:39.400Z"
   },
   {
    "duration": 5,
    "start_time": "2023-02-11T13:42:41.609Z"
   },
   {
    "duration": 730,
    "start_time": "2023-02-11T13:45:05.484Z"
   },
   {
    "duration": 0,
    "start_time": "2023-02-11T13:45:07.113Z"
   },
   {
    "duration": 771,
    "start_time": "2023-02-11T13:45:10.758Z"
   },
   {
    "duration": 9,
    "start_time": "2023-02-11T13:45:41.358Z"
   },
   {
    "duration": 9,
    "start_time": "2023-02-11T13:49:46.740Z"
   },
   {
    "duration": 10,
    "start_time": "2023-02-11T13:50:01.023Z"
   },
   {
    "duration": 47,
    "start_time": "2023-02-12T10:55:51.641Z"
   },
   {
    "duration": 1272,
    "start_time": "2023-02-12T10:56:07.033Z"
   },
   {
    "duration": 127,
    "start_time": "2023-02-12T10:56:08.307Z"
   },
   {
    "duration": 9,
    "start_time": "2023-02-12T10:56:08.435Z"
   },
   {
    "duration": 7,
    "start_time": "2023-02-12T10:56:08.445Z"
   },
   {
    "duration": 767,
    "start_time": "2023-02-12T10:56:08.454Z"
   },
   {
    "duration": 214,
    "start_time": "2023-02-12T10:56:09.223Z"
   },
   {
    "duration": 388,
    "start_time": "2023-02-12T10:56:09.439Z"
   },
   {
    "duration": 224,
    "start_time": "2023-02-12T10:56:09.828Z"
   },
   {
    "duration": 303,
    "start_time": "2023-02-12T10:56:10.055Z"
   },
   {
    "duration": 178,
    "start_time": "2023-02-12T10:56:10.360Z"
   },
   {
    "duration": 6,
    "start_time": "2023-02-12T10:56:10.539Z"
   },
   {
    "duration": 6,
    "start_time": "2023-02-12T10:56:10.546Z"
   },
   {
    "duration": 169,
    "start_time": "2023-02-12T10:56:10.554Z"
   },
   {
    "duration": 4,
    "start_time": "2023-02-12T10:56:10.727Z"
   },
   {
    "duration": 5,
    "start_time": "2023-02-12T10:56:10.732Z"
   },
   {
    "duration": 77,
    "start_time": "2023-02-12T10:56:10.738Z"
   },
   {
    "duration": 0,
    "start_time": "2023-02-12T10:56:10.817Z"
   },
   {
    "duration": 0,
    "start_time": "2023-02-12T10:56:10.818Z"
   },
   {
    "duration": 0,
    "start_time": "2023-02-12T10:56:10.819Z"
   },
   {
    "duration": 1322,
    "start_time": "2023-02-12T10:56:29.813Z"
   },
   {
    "duration": 1281,
    "start_time": "2023-02-12T10:56:32.952Z"
   },
   {
    "duration": 3083,
    "start_time": "2023-02-12T10:59:57.240Z"
   },
   {
    "duration": 1320,
    "start_time": "2023-02-12T11:00:21.982Z"
   },
   {
    "duration": 130,
    "start_time": "2023-02-12T11:00:37.725Z"
   },
   {
    "duration": 164,
    "start_time": "2023-02-12T11:07:24.220Z"
   },
   {
    "duration": 193,
    "start_time": "2023-02-12T11:08:14.680Z"
   },
   {
    "duration": 312,
    "start_time": "2023-02-12T11:09:31.811Z"
   },
   {
    "duration": 161,
    "start_time": "2023-02-12T11:09:40.228Z"
   },
   {
    "duration": 5,
    "start_time": "2023-02-12T11:11:36.457Z"
   },
   {
    "duration": 5,
    "start_time": "2023-02-12T11:11:58.728Z"
   },
   {
    "duration": 151,
    "start_time": "2023-02-12T11:13:34.568Z"
   },
   {
    "duration": 4,
    "start_time": "2023-02-12T11:14:00.763Z"
   },
   {
    "duration": 5,
    "start_time": "2023-02-12T11:17:17.873Z"
   },
   {
    "duration": 10,
    "start_time": "2023-02-12T11:17:41.221Z"
   },
   {
    "duration": 9,
    "start_time": "2023-02-12T11:17:52.322Z"
   },
   {
    "duration": 324,
    "start_time": "2023-02-12T11:26:50.127Z"
   },
   {
    "duration": 191,
    "start_time": "2023-02-12T11:26:56.104Z"
   },
   {
    "duration": 12,
    "start_time": "2023-02-12T11:31:06.837Z"
   },
   {
    "duration": 9,
    "start_time": "2023-02-12T11:43:39.781Z"
   },
   {
    "duration": 9,
    "start_time": "2023-02-12T11:45:36.149Z"
   },
   {
    "duration": 9,
    "start_time": "2023-02-12T11:45:50.393Z"
   },
   {
    "duration": 11,
    "start_time": "2023-02-12T11:46:08.873Z"
   },
   {
    "duration": 10,
    "start_time": "2023-02-12T11:46:58.179Z"
   },
   {
    "duration": 192,
    "start_time": "2023-02-12T11:48:02.893Z"
   },
   {
    "duration": 9,
    "start_time": "2023-02-12T11:48:43.249Z"
   },
   {
    "duration": 8,
    "start_time": "2023-02-12T11:49:11.558Z"
   },
   {
    "duration": 9,
    "start_time": "2023-02-12T11:49:30.969Z"
   },
   {
    "duration": 4,
    "start_time": "2023-02-12T11:51:42.400Z"
   },
   {
    "duration": 4,
    "start_time": "2023-02-12T11:51:54.729Z"
   },
   {
    "duration": 8,
    "start_time": "2023-02-12T11:54:04.080Z"
   },
   {
    "duration": 1211,
    "start_time": "2023-02-12T11:54:53.744Z"
   },
   {
    "duration": 0,
    "start_time": "2023-02-12T11:55:33.156Z"
   },
   {
    "duration": 1244,
    "start_time": "2023-02-12T11:55:53.499Z"
   },
   {
    "duration": 1366,
    "start_time": "2023-02-12T11:56:48.504Z"
   },
   {
    "duration": 1310,
    "start_time": "2023-02-12T11:57:01.284Z"
   },
   {
    "duration": 1358,
    "start_time": "2023-02-12T11:57:09.222Z"
   },
   {
    "duration": 8,
    "start_time": "2023-02-12T11:59:11.064Z"
   },
   {
    "duration": 1510,
    "start_time": "2023-02-12T11:59:20.477Z"
   },
   {
    "duration": 15,
    "start_time": "2023-02-12T11:59:29.046Z"
   },
   {
    "duration": 1491,
    "start_time": "2023-02-12T12:01:27.936Z"
   },
   {
    "duration": 25,
    "start_time": "2023-02-12T12:04:07.872Z"
   },
   {
    "duration": 1163,
    "start_time": "2023-02-12T12:06:55.877Z"
   },
   {
    "duration": 13,
    "start_time": "2023-02-12T12:08:39.680Z"
   },
   {
    "duration": 1330,
    "start_time": "2023-02-12T15:53:30.158Z"
   },
   {
    "duration": 139,
    "start_time": "2023-02-12T15:53:31.491Z"
   },
   {
    "duration": 18,
    "start_time": "2023-02-12T15:53:31.631Z"
   },
   {
    "duration": 23,
    "start_time": "2023-02-12T15:53:31.652Z"
   },
   {
    "duration": 795,
    "start_time": "2023-02-12T15:53:31.677Z"
   },
   {
    "duration": 244,
    "start_time": "2023-02-12T15:53:32.474Z"
   },
   {
    "duration": 412,
    "start_time": "2023-02-12T15:53:32.721Z"
   },
   {
    "duration": 313,
    "start_time": "2023-02-12T15:53:33.135Z"
   },
   {
    "duration": 357,
    "start_time": "2023-02-12T15:53:33.452Z"
   },
   {
    "duration": 189,
    "start_time": "2023-02-12T15:53:33.812Z"
   },
   {
    "duration": 5,
    "start_time": "2023-02-12T15:53:34.003Z"
   },
   {
    "duration": 5,
    "start_time": "2023-02-12T15:53:34.009Z"
   },
   {
    "duration": 219,
    "start_time": "2023-02-12T15:53:34.016Z"
   },
   {
    "duration": 16,
    "start_time": "2023-02-12T15:53:34.239Z"
   },
   {
    "duration": 16,
    "start_time": "2023-02-12T15:53:34.257Z"
   },
   {
    "duration": 4,
    "start_time": "2023-02-12T15:53:34.276Z"
   },
   {
    "duration": 273,
    "start_time": "2023-02-12T15:53:34.282Z"
   },
   {
    "duration": 194,
    "start_time": "2023-02-12T15:53:34.558Z"
   },
   {
    "duration": 18,
    "start_time": "2023-02-12T15:53:34.757Z"
   },
   {
    "duration": 12,
    "start_time": "2023-02-12T15:53:34.778Z"
   },
   {
    "duration": 63,
    "start_time": "2023-02-12T15:53:34.792Z"
   },
   {
    "duration": 16,
    "start_time": "2023-02-12T15:53:34.857Z"
   },
   {
    "duration": 574,
    "start_time": "2023-02-12T16:20:14.281Z"
   },
   {
    "duration": 606,
    "start_time": "2023-02-12T16:21:22.923Z"
   },
   {
    "duration": 204,
    "start_time": "2023-02-12T16:30:12.561Z"
   },
   {
    "duration": 273,
    "start_time": "2023-02-12T16:36:35.090Z"
   },
   {
    "duration": 355,
    "start_time": "2023-02-12T16:36:57.836Z"
   },
   {
    "duration": 298,
    "start_time": "2023-02-12T16:49:48.483Z"
   },
   {
    "duration": 233,
    "start_time": "2023-02-12T16:49:55.369Z"
   },
   {
    "duration": 316,
    "start_time": "2023-02-12T16:54:13.410Z"
   },
   {
    "duration": 328,
    "start_time": "2023-02-12T16:58:32.544Z"
   },
   {
    "duration": 322,
    "start_time": "2023-02-12T17:05:49.874Z"
   },
   {
    "duration": 11,
    "start_time": "2023-02-12T17:24:41.633Z"
   },
   {
    "duration": 30,
    "start_time": "2023-02-12T17:25:41.539Z"
   },
   {
    "duration": 9,
    "start_time": "2023-02-12T17:26:12.082Z"
   },
   {
    "duration": 35,
    "start_time": "2023-02-12T17:26:13.583Z"
   },
   {
    "duration": 9,
    "start_time": "2023-02-12T17:27:03.989Z"
   },
   {
    "duration": 20,
    "start_time": "2023-02-12T17:27:08.907Z"
   },
   {
    "duration": 12,
    "start_time": "2023-02-12T17:28:45.147Z"
   },
   {
    "duration": 31,
    "start_time": "2023-02-12T17:28:47.157Z"
   },
   {
    "duration": 16,
    "start_time": "2023-02-12T17:28:48.845Z"
   },
   {
    "duration": 50,
    "start_time": "2023-02-12T21:29:54.166Z"
   },
   {
    "duration": 1114,
    "start_time": "2023-02-12T21:29:58.398Z"
   },
   {
    "duration": 143,
    "start_time": "2023-02-12T21:29:59.514Z"
   },
   {
    "duration": 10,
    "start_time": "2023-02-12T21:30:04.528Z"
   },
   {
    "duration": 8,
    "start_time": "2023-02-12T21:30:12.861Z"
   },
   {
    "duration": 10,
    "start_time": "2023-02-12T21:30:54.959Z"
   },
   {
    "duration": 31,
    "start_time": "2023-02-12T21:31:07.332Z"
   },
   {
    "duration": 31,
    "start_time": "2023-02-12T21:31:51.073Z"
   },
   {
    "duration": 10,
    "start_time": "2023-02-12T21:32:02.208Z"
   },
   {
    "duration": 12,
    "start_time": "2023-02-12T21:32:15.491Z"
   },
   {
    "duration": 187,
    "start_time": "2023-02-12T21:49:56.258Z"
   },
   {
    "duration": 80,
    "start_time": "2023-02-12T21:50:24.873Z"
   },
   {
    "duration": 57,
    "start_time": "2023-02-12T21:55:25.169Z"
   },
   {
    "duration": 61,
    "start_time": "2023-02-12T21:55:35.919Z"
   },
   {
    "duration": 5,
    "start_time": "2023-02-12T21:57:02.841Z"
   },
   {
    "duration": 11,
    "start_time": "2023-02-12T21:57:14.457Z"
   },
   {
    "duration": 281,
    "start_time": "2023-02-12T21:58:11.986Z"
   },
   {
    "duration": 16,
    "start_time": "2023-02-12T22:05:56.438Z"
   },
   {
    "duration": 12,
    "start_time": "2023-02-12T22:09:42.237Z"
   },
   {
    "duration": 262,
    "start_time": "2023-02-12T22:10:07.137Z"
   },
   {
    "duration": 261,
    "start_time": "2023-02-12T22:10:23.250Z"
   },
   {
    "duration": 257,
    "start_time": "2023-02-12T22:10:52.317Z"
   },
   {
    "duration": 215,
    "start_time": "2023-02-12T22:11:33.849Z"
   },
   {
    "duration": 196,
    "start_time": "2023-02-12T22:21:32.694Z"
   },
   {
    "duration": 186,
    "start_time": "2023-02-12T22:21:45.569Z"
   },
   {
    "duration": 197,
    "start_time": "2023-02-12T22:21:57.774Z"
   },
   {
    "duration": 190,
    "start_time": "2023-02-12T22:22:05.966Z"
   },
   {
    "duration": 180,
    "start_time": "2023-02-12T22:22:49.535Z"
   },
   {
    "duration": 377,
    "start_time": "2023-02-12T22:23:26.830Z"
   },
   {
    "duration": 254,
    "start_time": "2023-02-12T22:23:48.489Z"
   },
   {
    "duration": 63,
    "start_time": "2023-02-12T22:25:47.794Z"
   },
   {
    "duration": 193,
    "start_time": "2023-02-12T22:26:00.281Z"
   },
   {
    "duration": 308,
    "start_time": "2023-02-12T22:26:03.958Z"
   },
   {
    "duration": 199,
    "start_time": "2023-02-12T22:26:07.360Z"
   },
   {
    "duration": 312,
    "start_time": "2023-02-12T22:26:10.510Z"
   },
   {
    "duration": 310,
    "start_time": "2023-02-12T22:26:20.917Z"
   },
   {
    "duration": 320,
    "start_time": "2023-02-12T22:26:48.934Z"
   },
   {
    "duration": 278,
    "start_time": "2023-02-12T22:26:59.981Z"
   },
   {
    "duration": 287,
    "start_time": "2023-02-12T22:31:38.288Z"
   },
   {
    "duration": 299,
    "start_time": "2023-02-12T22:32:05.885Z"
   },
   {
    "duration": 190,
    "start_time": "2023-02-12T22:38:42.226Z"
   },
   {
    "duration": 435,
    "start_time": "2023-02-12T22:39:44.562Z"
   },
   {
    "duration": 276,
    "start_time": "2023-02-12T22:39:54.091Z"
   },
   {
    "duration": 339,
    "start_time": "2023-02-12T22:40:09.427Z"
   },
   {
    "duration": 298,
    "start_time": "2023-02-12T22:42:15.968Z"
   },
   {
    "duration": 220,
    "start_time": "2023-02-12T22:48:04.854Z"
   },
   {
    "duration": 315,
    "start_time": "2023-02-12T22:48:23.880Z"
   },
   {
    "duration": 325,
    "start_time": "2023-02-12T22:48:35.262Z"
   },
   {
    "duration": 223,
    "start_time": "2023-02-12T22:48:44.905Z"
   },
   {
    "duration": 195,
    "start_time": "2023-02-12T22:49:06.132Z"
   },
   {
    "duration": 150,
    "start_time": "2023-02-12T22:58:01.500Z"
   },
   {
    "duration": 206,
    "start_time": "2023-02-12T22:59:37.096Z"
   },
   {
    "duration": 125,
    "start_time": "2023-02-12T23:00:54.983Z"
   },
   {
    "duration": 151,
    "start_time": "2023-02-12T23:01:00.647Z"
   },
   {
    "duration": 147,
    "start_time": "2023-02-12T23:01:20.455Z"
   },
   {
    "duration": 232,
    "start_time": "2023-02-12T23:07:14.168Z"
   },
   {
    "duration": 9,
    "start_time": "2023-02-12T23:09:03.592Z"
   },
   {
    "duration": 13,
    "start_time": "2023-02-12T23:09:09.914Z"
   },
   {
    "duration": 140,
    "start_time": "2023-02-12T23:09:13.026Z"
   },
   {
    "duration": 9,
    "start_time": "2023-02-12T23:09:18.484Z"
   },
   {
    "duration": 54,
    "start_time": "2023-02-13T08:36:50.211Z"
   },
   {
    "duration": 9,
    "start_time": "2023-02-13T08:36:57.929Z"
   },
   {
    "duration": 1194,
    "start_time": "2023-02-13T08:37:06.462Z"
   },
   {
    "duration": 126,
    "start_time": "2023-02-13T08:37:07.658Z"
   },
   {
    "duration": 16,
    "start_time": "2023-02-13T08:37:07.786Z"
   },
   {
    "duration": 12,
    "start_time": "2023-02-13T08:37:07.804Z"
   },
   {
    "duration": 3,
    "start_time": "2023-02-13T08:37:07.818Z"
   },
   {
    "duration": 177,
    "start_time": "2023-02-13T08:37:07.822Z"
   },
   {
    "duration": 13,
    "start_time": "2023-02-13T08:37:08.001Z"
   },
   {
    "duration": 277,
    "start_time": "2023-02-13T08:37:08.015Z"
   },
   {
    "duration": 19,
    "start_time": "2023-02-13T08:37:08.294Z"
   },
   {
    "duration": 288,
    "start_time": "2023-02-13T08:37:08.316Z"
   },
   {
    "duration": 192,
    "start_time": "2023-02-13T08:37:08.606Z"
   },
   {
    "duration": 345,
    "start_time": "2023-02-13T08:37:08.809Z"
   },
   {
    "duration": 206,
    "start_time": "2023-02-13T08:37:09.156Z"
   },
   {
    "duration": 305,
    "start_time": "2023-02-13T08:37:09.363Z"
   },
   {
    "duration": 147,
    "start_time": "2023-02-13T08:37:09.669Z"
   },
   {
    "duration": 4,
    "start_time": "2023-02-13T08:37:09.817Z"
   },
   {
    "duration": 163,
    "start_time": "2023-02-13T08:37:09.822Z"
   },
   {
    "duration": 6,
    "start_time": "2023-02-13T08:37:09.987Z"
   },
   {
    "duration": 160,
    "start_time": "2023-02-13T08:37:09.994Z"
   },
   {
    "duration": 4,
    "start_time": "2023-02-13T08:37:10.156Z"
   },
   {
    "duration": 226,
    "start_time": "2023-02-13T08:37:10.162Z"
   },
   {
    "duration": 167,
    "start_time": "2023-02-13T08:37:10.390Z"
   },
   {
    "duration": 10,
    "start_time": "2023-02-13T08:37:10.559Z"
   },
   {
    "duration": 13,
    "start_time": "2023-02-13T08:37:10.570Z"
   },
   {
    "duration": 35,
    "start_time": "2023-02-13T08:37:10.584Z"
   },
   {
    "duration": 13,
    "start_time": "2023-02-13T08:37:10.621Z"
   },
   {
    "duration": 7,
    "start_time": "2023-02-13T09:07:46.828Z"
   },
   {
    "duration": 9,
    "start_time": "2023-02-13T09:08:00.213Z"
   },
   {
    "duration": 148,
    "start_time": "2023-02-13T09:29:12.475Z"
   },
   {
    "duration": 49,
    "start_time": "2023-02-14T06:12:58.024Z"
   },
   {
    "duration": 5,
    "start_time": "2023-02-14T06:13:21.364Z"
   },
   {
    "duration": 1091,
    "start_time": "2023-02-14T06:13:33.579Z"
   },
   {
    "duration": 134,
    "start_time": "2023-02-14T06:13:34.672Z"
   },
   {
    "duration": 11,
    "start_time": "2023-02-14T06:13:34.807Z"
   },
   {
    "duration": 11,
    "start_time": "2023-02-14T06:13:34.819Z"
   },
   {
    "duration": 4,
    "start_time": "2023-02-14T06:13:34.832Z"
   },
   {
    "duration": 174,
    "start_time": "2023-02-14T06:13:34.838Z"
   },
   {
    "duration": 9,
    "start_time": "2023-02-14T06:13:35.014Z"
   },
   {
    "duration": 12,
    "start_time": "2023-02-14T06:13:35.025Z"
   },
   {
    "duration": 311,
    "start_time": "2023-02-14T06:13:35.038Z"
   },
   {
    "duration": 15,
    "start_time": "2023-02-14T06:13:35.352Z"
   },
   {
    "duration": 291,
    "start_time": "2023-02-14T06:13:35.369Z"
   },
   {
    "duration": 190,
    "start_time": "2023-02-14T06:13:35.661Z"
   },
   {
    "duration": 356,
    "start_time": "2023-02-14T06:13:35.852Z"
   },
   {
    "duration": 192,
    "start_time": "2023-02-14T06:13:36.210Z"
   },
   {
    "duration": 295,
    "start_time": "2023-02-14T06:13:36.403Z"
   },
   {
    "duration": 135,
    "start_time": "2023-02-14T06:13:36.700Z"
   },
   {
    "duration": 4,
    "start_time": "2023-02-14T06:13:36.836Z"
   },
   {
    "duration": 145,
    "start_time": "2023-02-14T06:13:36.848Z"
   },
   {
    "duration": 5,
    "start_time": "2023-02-14T06:13:36.995Z"
   },
   {
    "duration": 151,
    "start_time": "2023-02-14T06:13:37.001Z"
   },
   {
    "duration": 3,
    "start_time": "2023-02-14T06:13:37.154Z"
   },
   {
    "duration": 209,
    "start_time": "2023-02-14T06:13:37.159Z"
   },
   {
    "duration": 145,
    "start_time": "2023-02-14T06:13:37.370Z"
   },
   {
    "duration": 9,
    "start_time": "2023-02-14T06:13:37.517Z"
   },
   {
    "duration": 22,
    "start_time": "2023-02-14T06:13:37.527Z"
   },
   {
    "duration": 26,
    "start_time": "2023-02-14T06:13:37.550Z"
   },
   {
    "duration": 11,
    "start_time": "2023-02-14T06:13:37.578Z"
   },
   {
    "duration": 8,
    "start_time": "2023-02-14T06:18:29.468Z"
   },
   {
    "duration": 7,
    "start_time": "2023-02-14T06:19:45.763Z"
   },
   {
    "duration": 12,
    "start_time": "2023-02-14T06:20:38.319Z"
   },
   {
    "duration": 5,
    "start_time": "2023-02-14T06:29:16.531Z"
   },
   {
    "duration": 6,
    "start_time": "2023-02-14T06:29:20.001Z"
   },
   {
    "duration": 9,
    "start_time": "2023-02-14T06:29:41.164Z"
   },
   {
    "duration": 8,
    "start_time": "2023-02-14T06:29:45.678Z"
   },
   {
    "duration": 49,
    "start_time": "2023-03-05T11:24:45.289Z"
   },
   {
    "duration": 985,
    "start_time": "2023-03-05T11:24:55.571Z"
   },
   {
    "duration": 134,
    "start_time": "2023-03-05T11:24:56.558Z"
   },
   {
    "duration": 13,
    "start_time": "2023-03-05T11:24:56.693Z"
   },
   {
    "duration": 19,
    "start_time": "2023-03-05T11:24:56.707Z"
   },
   {
    "duration": 9,
    "start_time": "2023-03-05T11:24:56.728Z"
   },
   {
    "duration": 168,
    "start_time": "2023-03-05T11:24:56.738Z"
   },
   {
    "duration": 8,
    "start_time": "2023-03-05T11:24:56.907Z"
   },
   {
    "duration": 14,
    "start_time": "2023-03-05T11:24:56.916Z"
   },
   {
    "duration": 12,
    "start_time": "2023-03-05T11:24:56.931Z"
   },
   {
    "duration": 255,
    "start_time": "2023-03-05T11:24:56.944Z"
   },
   {
    "duration": 11,
    "start_time": "2023-03-05T11:24:57.201Z"
   },
   {
    "duration": 285,
    "start_time": "2023-03-05T11:24:57.214Z"
   },
   {
    "duration": 196,
    "start_time": "2023-03-05T11:24:57.501Z"
   },
   {
    "duration": 299,
    "start_time": "2023-03-05T11:24:57.700Z"
   },
   {
    "duration": 207,
    "start_time": "2023-03-05T11:24:58.001Z"
   },
   {
    "duration": 297,
    "start_time": "2023-03-05T11:24:58.210Z"
   },
   {
    "duration": 150,
    "start_time": "2023-03-05T11:24:58.509Z"
   },
   {
    "duration": 5,
    "start_time": "2023-03-05T11:24:58.661Z"
   },
   {
    "duration": 164,
    "start_time": "2023-03-05T11:24:58.667Z"
   },
   {
    "duration": 19,
    "start_time": "2023-03-05T11:24:58.833Z"
   },
   {
    "duration": 166,
    "start_time": "2023-03-05T11:24:58.854Z"
   },
   {
    "duration": 4,
    "start_time": "2023-03-05T11:24:59.022Z"
   },
   {
    "duration": 223,
    "start_time": "2023-03-05T11:24:59.028Z"
   },
   {
    "duration": 142,
    "start_time": "2023-03-05T11:24:59.253Z"
   },
   {
    "duration": 9,
    "start_time": "2023-03-05T11:24:59.397Z"
   },
   {
    "duration": 26,
    "start_time": "2023-03-05T11:24:59.407Z"
   },
   {
    "duration": 23,
    "start_time": "2023-03-05T11:24:59.435Z"
   },
   {
    "duration": 11,
    "start_time": "2023-03-05T11:24:59.459Z"
   }
  ],
  "kernelspec": {
   "display_name": "Python 3 (ipykernel)",
   "language": "python",
   "name": "python3"
  },
  "language_info": {
   "codemirror_mode": {
    "name": "ipython",
    "version": 3
   },
   "file_extension": ".py",
   "mimetype": "text/x-python",
   "name": "python",
   "nbconvert_exporter": "python",
   "pygments_lexer": "ipython3",
   "version": "3.9.5"
  },
  "toc": {
   "base_numbering": 1,
   "nav_menu": {},
   "number_sections": true,
   "sideBar": true,
   "skip_h1_title": true,
   "title_cell": "Table of Contents",
   "title_sidebar": "Contents",
   "toc_cell": false,
   "toc_position": {},
   "toc_section_display": true,
   "toc_window_display": false
  }
 },
 "nbformat": 4,
 "nbformat_minor": 2
}
